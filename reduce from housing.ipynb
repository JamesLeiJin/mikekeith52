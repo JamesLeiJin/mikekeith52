{
 "cells": [
  {
   "cell_type": "code",
   "execution_count": 1,
   "id": "4fa7c13d-9222-4fdc-a143-f70c718c838c",
   "metadata": {},
   "outputs": [
    {
     "ename": "ImportError",
     "evalue": "cannot import name 'pdr_load' from 'scalecast.util' (C:\\ProgramData\\Anaconda3\\lib\\site-packages\\scalecast\\util.py)",
     "output_type": "error",
     "traceback": [
      "\u001b[1;31m---------------------------------------------------------------------------\u001b[0m",
      "\u001b[1;31mImportError\u001b[0m                               Traceback (most recent call last)",
      "Cell \u001b[1;32mIn[1], line 2\u001b[0m\n\u001b[0;32m      1\u001b[0m \u001b[38;5;28;01mfrom\u001b[39;00m \u001b[38;5;21;01mscalecast\u001b[39;00m\u001b[38;5;21;01m.\u001b[39;00m\u001b[38;5;21;01mForecaster\u001b[39;00m \u001b[38;5;28;01mimport\u001b[39;00m Forecaster\n\u001b[1;32m----> 2\u001b[0m \u001b[38;5;28;01mfrom\u001b[39;00m \u001b[38;5;21;01mscalecast\u001b[39;00m\u001b[38;5;21;01m.\u001b[39;00m\u001b[38;5;21;01mutil\u001b[39;00m \u001b[38;5;28;01mimport\u001b[39;00m pdr_load, plot_reduction_errors\n\u001b[0;32m      4\u001b[0m f \u001b[38;5;241m=\u001b[39m pdr_load(\u001b[38;5;124m'\u001b[39m\u001b[38;5;124mHOUSTNSA\u001b[39m\u001b[38;5;124m'\u001b[39m,start\u001b[38;5;241m=\u001b[39m\u001b[38;5;124m'\u001b[39m\u001b[38;5;124m1959-01-01\u001b[39m\u001b[38;5;124m'\u001b[39m,src\u001b[38;5;241m=\u001b[39m\u001b[38;5;124m'\u001b[39m\u001b[38;5;124mfred\u001b[39m\u001b[38;5;124m'\u001b[39m)\n\u001b[0;32m      5\u001b[0m f\u001b[38;5;241m.\u001b[39mset_test_length(\u001b[38;5;241m.2\u001b[39m) \u001b[38;5;66;03m# 20% holdout\u001b[39;00m\n",
      "\u001b[1;31mImportError\u001b[0m: cannot import name 'pdr_load' from 'scalecast.util' (C:\\ProgramData\\Anaconda3\\lib\\site-packages\\scalecast\\util.py)"
     ]
    }
   ],
   "source": [
    "from scalecast.Forecaster import Forecaster\n",
    "from scalecast.util import pdr_load, plot_reduction_errors\n",
    "\n",
    "f = pdr_load('HOUSTNSA',start='1959-01-01',src='fred')\n",
    "f.set_test_length(.2) # 20% holdout\n",
    "f.generate_future_dates(24)\n",
    "\n",
    "f.add_ar_terms(36)\n",
    "f.add_seasonal_regressors(\n",
    "  'month',\n",
    "  'quarter',\n",
    "  raw=False,\n",
    "  sincos=True,\n",
    "  dummy=True,\n",
    ")\n",
    "f.add_time_trend()\n",
    "f.add_logged_terms('t')\n",
    "f.add_poly_terms('t','lnt',pwr=2)\n",
    "f.integrate()\n",
    "\n",
    "f.reduce_Xvars(\n",
    "  method='shap',\n",
    "  estimator='xgboost',\n",
    "  cross_validate=True,\n",
    "  cvkwargs={\n",
    "    'k':5, # default - 5-fold cv\n",
    "    'rolling':False, # default\n",
    "  }, \n",
    "  grid_search=True, # default to optimize estimator\n",
    "  keep_at_least=1, # default\n",
    "  keep_this_many='auto', # default\n",
    ")\n",
    "# view results\n",
    "plot_reduction_errors(f)"
   ]
  },
  {
   "cell_type": "code",
   "execution_count": null,
   "id": "1ee7f847-b81a-44a9-b8cf-aa25b6fa1ae8",
   "metadata": {},
   "outputs": [],
   "source": [
    "f.reduced_Xvars"
   ]
  },
  {
   "cell_type": "code",
   "execution_count": null,
   "id": "f3480591-8f18-4cd2-a0bb-81a901a7be46",
   "metadata": {},
   "outputs": [],
   "source": []
  }
 ],
 "metadata": {
  "kernelspec": {
   "display_name": "Python 3 (ipykernel)",
   "language": "python",
   "name": "python3"
  },
  "language_info": {
   "codemirror_mode": {
    "name": "ipython",
    "version": 3
   },
   "file_extension": ".py",
   "mimetype": "text/x-python",
   "name": "python",
   "nbconvert_exporter": "python",
   "pygments_lexer": "ipython3",
   "version": "3.10.9"
  },
  "widgets": {
   "application/vnd.jupyter.widget-state+json": {
    "state": {},
    "version_major": 2,
    "version_minor": 0
   }
  }
 },
 "nbformat": 4,
 "nbformat_minor": 5
}
