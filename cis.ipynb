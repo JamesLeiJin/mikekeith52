{
 "cells": [
  {
   "cell_type": "markdown",
   "id": "0cc8c078-4b32-4f1b-a31c-0b2f958790fb",
   "metadata": {},
   "source": [
    "# Confidence Intervals\n",
    "\n",
    "This notebook overviews scalecast intervals, which are scored with [Mean Scaled Interval Score (MSIS)](https://scalecast.readthedocs.io/en/latest/Forecaster/Util.html#src.scalecast.util.metrics.msis). Lower scores are better. This notebook requires `scalecast>=0.18.0`.  \n",
    "\n",
    "Scalecast uses a naive conformal interval, created from holding out a test-set of data and setting interval ranges from the percentiles of the test-set residuals. This simple approach allows every estimator type to get the same kind of interval. As we will see by scoring the intervals and comparing them to ARIMA intervals from statsmodels, the results are good.  \n",
    "\n",
    "To evaluate the intervals, we leave out a section of each series to score out-of-sample. This is usually not necessary for scalecast, as all models are tested automatically, but the confidence intervals can overfit on any test set stored in the `Forecaster` or `MVForecaster` object due to leakage that occurs when constructing these intervals. Scalecast intervals are compared to ARIMA intervals on the same series in the last section of this notebook and the scalecast intervals, on the whole, perform better. The series used in this example are ordered from easiest-to-hardest to forecast.  \n",
    "\n",
    "[Easy Distribution-Free Conformal Intervals for Time Series](https://medium.com/towards-data-science/easy-distribution-free-conformal-intervals-for-time-series-665137e4d907)  \n",
    "\n",
    "**Sections:**  \n",
    "[Daily Website Visitors](#Daily-Website-Visitors)  \n",
    "[Housing Starts](#Housing-Starts)  \n",
    "[Avocado Sales](#Avocado-Sales)  \n",
    "[All Aggregated Results](#All-Aggregated-Results)  \n",
    "[Benchmark Against StatsModels ARIMA](#Benchmark-Against-StatsModels-ARIMA)  "
   ]
  },
  {
   "cell_type": "code",
   "execution_count": 1,
   "id": "b45d6796-408e-4827-965a-82b2a6942f69",
   "metadata": {},
   "outputs": [],
   "source": [
    "import pandas as pd\n",
    "import numpy as np\n",
    "from scalecast.Forecaster import Forecaster\n",
    "from scalecast import GridGenerator\n",
    "from scalecast.util import metrics\n",
    "from scalecast.notebook import tune_test_forecast\n",
    "from scalecast.SeriesTransformer import SeriesTransformer\n",
    "import matplotlib.pyplot as plt\n",
    "import seaborn as sns\n",
    "import time\n",
    "from tqdm.notebook import tqdm"
   ]
  },
  {
   "cell_type": "code",
   "execution_count": 2,
   "id": "3b367206-9360-480b-83a7-aa293fa15b00",
   "metadata": {},
   "outputs": [],
   "source": [
    "import warnings\n",
    "warnings.simplefilter(action='ignore', category=DeprecationWarning)"
   ]
  },
  {
   "cell_type": "code",
   "execution_count": 3,
   "id": "b8087aae-89ad-4d84-b884-ee6374b032c7",
   "metadata": {},
   "outputs": [],
   "source": [
    "models = (\n",
    "    'mlr',\n",
    "    'elasticnet',\n",
    "    'ridge',\n",
    "    'knn',\n",
    "    'xgboost',\n",
    "    'lightgbm',\n",
    "    'gbt',\n",
    ") # these are all scikit-learn models or APIs\n",
    "# this will be used later to fill in results\n",
    "results_template = pd.DataFrame(index=models)"
   ]
  },
  {
   "cell_type": "code",
   "execution_count": 4,
   "id": "7981c223-eaff-4227-b3db-d79d3cf1ef3b",
   "metadata": {},
   "outputs": [],
   "source": [
    "def score_cis(results, fcsts, ci_name, actuals, obs, val_len, models=models, m_=1):\n",
    "    for m in models:\n",
    "        results.loc[m,ci_name] = metrics.msis(\n",
    "            a = actuals,\n",
    "            uf = fcsts[m+'_upperci'],\n",
    "            lf = fcsts[m+'_lowerci'],\n",
    "            obs = obs,\n",
    "            m = m_,\n",
    "        )\n",
    "    return results"
   ]
  },
  {
   "cell_type": "code",
   "execution_count": 5,
   "id": "08b3de0c-bc95-474d-a861-67149e0f7524",
   "metadata": {},
   "outputs": [],
   "source": [
    "GridGenerator.get_example_grids()"
   ]
  },
  {
   "cell_type": "markdown",
   "id": "9b1181fa-3ebf-4e3a-a41b-7146671516ca",
   "metadata": {},
   "source": [
    "## Daily Website Visitors\n",
    "\n",
    "- Link to data: https://www.kaggle.com/datasets/bobnau/daily-website-visitors  \n",
    "- We will use a length of 180 observations (about half a year) both to tune and test the models  \n",
    "- We want to optimize the forecasts and confidence intervals for a 60-day forecast horizon  "
   ]
  },
  {
   "cell_type": "code",
   "execution_count": 6,
   "id": "eedcaa5d-2e5e-44a0-8fb8-553a51238856",
   "metadata": {},
   "outputs": [],
   "source": [
    "val_len = 180\n",
    "fcst_len = 60"
   ]
  },
  {
   "cell_type": "code",
   "execution_count": 7,
   "id": "92ad639f-7eec-4570-a2f1-28a923c9dd6e",
   "metadata": {},
   "outputs": [
    {
     "data": {
      "text/html": [
       "<div>\n",
       "<style scoped>\n",
       "    .dataframe tbody tr th:only-of-type {\n",
       "        vertical-align: middle;\n",
       "    }\n",
       "\n",
       "    .dataframe tbody tr th {\n",
       "        vertical-align: top;\n",
       "    }\n",
       "\n",
       "    .dataframe thead th {\n",
       "        text-align: right;\n",
       "    }\n",
       "</style>\n",
       "<table border=\"1\" class=\"dataframe\">\n",
       "  <thead>\n",
       "    <tr style=\"text-align: right;\">\n",
       "      <th></th>\n",
       "      <th>Row</th>\n",
       "      <th>Day</th>\n",
       "      <th>Day.Of.Week</th>\n",
       "      <th>Page.Loads</th>\n",
       "      <th>Unique.Visits</th>\n",
       "      <th>First.Time.Visits</th>\n",
       "      <th>Returning.Visits</th>\n",
       "    </tr>\n",
       "    <tr>\n",
       "      <th>Date</th>\n",
       "      <th></th>\n",
       "      <th></th>\n",
       "      <th></th>\n",
       "      <th></th>\n",
       "      <th></th>\n",
       "      <th></th>\n",
       "      <th></th>\n",
       "    </tr>\n",
       "  </thead>\n",
       "  <tbody>\n",
       "    <tr>\n",
       "      <th>2014-09-14</th>\n",
       "      <td>1</td>\n",
       "      <td>Sunday</td>\n",
       "      <td>1</td>\n",
       "      <td>2,146</td>\n",
       "      <td>1,582</td>\n",
       "      <td>1430</td>\n",
       "      <td>152</td>\n",
       "    </tr>\n",
       "    <tr>\n",
       "      <th>2014-09-15</th>\n",
       "      <td>2</td>\n",
       "      <td>Monday</td>\n",
       "      <td>2</td>\n",
       "      <td>3,621</td>\n",
       "      <td>2,528</td>\n",
       "      <td>2297</td>\n",
       "      <td>231</td>\n",
       "    </tr>\n",
       "    <tr>\n",
       "      <th>2014-09-16</th>\n",
       "      <td>3</td>\n",
       "      <td>Tuesday</td>\n",
       "      <td>3</td>\n",
       "      <td>3,698</td>\n",
       "      <td>2,630</td>\n",
       "      <td>2352</td>\n",
       "      <td>278</td>\n",
       "    </tr>\n",
       "    <tr>\n",
       "      <th>2014-09-17</th>\n",
       "      <td>4</td>\n",
       "      <td>Wednesday</td>\n",
       "      <td>4</td>\n",
       "      <td>3,667</td>\n",
       "      <td>2,614</td>\n",
       "      <td>2327</td>\n",
       "      <td>287</td>\n",
       "    </tr>\n",
       "    <tr>\n",
       "      <th>2014-09-18</th>\n",
       "      <td>5</td>\n",
       "      <td>Thursday</td>\n",
       "      <td>5</td>\n",
       "      <td>3,316</td>\n",
       "      <td>2,366</td>\n",
       "      <td>2130</td>\n",
       "      <td>236</td>\n",
       "    </tr>\n",
       "  </tbody>\n",
       "</table>\n",
       "</div>"
      ],
      "text/plain": [
       "            Row        Day  Day.Of.Week Page.Loads Unique.Visits  \\\n",
       "Date                                                               \n",
       "2014-09-14    1     Sunday            1      2,146         1,582   \n",
       "2014-09-15    2     Monday            2      3,621         2,528   \n",
       "2014-09-16    3    Tuesday            3      3,698         2,630   \n",
       "2014-09-17    4  Wednesday            4      3,667         2,614   \n",
       "2014-09-18    5   Thursday            5      3,316         2,366   \n",
       "\n",
       "            First.Time.Visits Returning.Visits  \n",
       "Date                                            \n",
       "2014-09-14               1430              152  \n",
       "2014-09-15               2297              231  \n",
       "2014-09-16               2352              278  \n",
       "2014-09-17               2327              287  \n",
       "2014-09-18               2130              236  "
      ]
     },
     "execution_count": 7,
     "metadata": {},
     "output_type": "execute_result"
    }
   ],
   "source": [
    "data = pd.read_csv(r'C:\\Users\\jinlei\\Documents\\2023\\mikekeith52\\data\\daily-website-visitors.csv',parse_dates=['Date']).set_index('Date')\n",
    "data.head()"
   ]
  },
  {
   "cell_type": "code",
   "execution_count": 8,
   "id": "dcbbe890-0cd5-45fb-a40f-f82bb7981904",
   "metadata": {},
   "outputs": [],
   "source": [
    "visits_sep = data['First.Time.Visits'].iloc[-fcst_len:]\n",
    "visits = data['First.Time.Visits'].iloc[:-fcst_len]"
   ]
  },
  {
   "cell_type": "code",
   "execution_count": 9,
   "id": "87393326-475a-4309-85cd-6612748cbaf8",
   "metadata": {},
   "outputs": [
    {
     "data": {
      "text/plain": [
       "Forecaster(\n",
       "    DateStartActuals=2014-09-14T00:00:00.000000000\n",
       "    DateEndActuals=2020-06-20T00:00:00.000000000\n",
       "    Freq=D\n",
       "    N_actuals=2107\n",
       "    ForecastLength=60\n",
       "    Xvars=['t', 'AR1', 'AR2', 'AR3', 'AR4', 'AR5', 'AR6', 'AR7', 'AR8', 'AR9', 'AR10', 'AR11', 'AR12', 'AR13', 'AR14', 'AR15', 'AR16', 'AR17', 'AR18', 'AR19', 'AR20', 'AR21', 'AR22', 'AR23', 'AR24', 'AR25', 'AR26', 'AR27', 'AR28', 'AR29', 'AR30', 'AR31', 'AR32', 'AR33', 'AR34', 'AR35', 'AR36', 'AR37', 'AR38', 'AR39', 'AR40', 'AR41', 'AR42', 'AR43', 'AR44', 'AR45', 'AR46', 'AR47', 'AR48', 'AR49', 'AR50', 'AR51', 'AR52', 'AR53', 'AR54', 'AR55', 'AR56', 'AR57', 'AR58', 'AR59', 'AR60', 'AR61', 'AR62', 'AR63', 'AR64', 'AR65', 'AR66', 'AR67', 'AR68', 'AR69', 'AR70', 'AR71', 'AR72', 'AR73', 'AR74', 'AR75', 'AR76', 'AR77', 'AR78', 'AR79', 'AR80', 'AR81', 'AR82', 'AR83', 'AR84', 'AR85', 'AR86', 'AR87', 'AR88', 'AR89', 'AR90', 'AR91', 'AR92', 'AR93', 'AR94', 'AR95', 'AR96', 'AR97', 'AR98', 'AR99', 'AR100']\n",
       "    TestLength=180\n",
       "    ValidationMetric=rmse\n",
       "    ForecastsEvaluated=[]\n",
       "    CILevel=0.95\n",
       "    CurrentEstimator=mlr\n",
       "    GridsFile=Grids\n",
       ")"
      ]
     },
     "execution_count": 9,
     "metadata": {},
     "output_type": "execute_result"
    }
   ],
   "source": [
    "f=Forecaster(\n",
    "    y=visits,\n",
    "    current_dates=visits.index,\n",
    "    future_dates=fcst_len,\n",
    "    test_length = val_len,\n",
    "    validation_length = val_len, # for hyperparameter tuning\n",
    "    cis = True, # set to True at initialization to always evaluate cis\n",
    ")\n",
    "f.auto_Xvar_select(\n",
    "    estimator='elasticnet',\n",
    "    alpha=.2,\n",
    "    max_ar=100,\n",
    "    monitor='ValidationMetricValue',\n",
    ")\n",
    "f"
   ]
  },
  {
   "cell_type": "code",
   "execution_count": 11,
   "id": "6dac1977-ec3d-48ff-8c18-a017584b7545",
   "metadata": {},
   "outputs": [
    {
     "data": {
      "application/vnd.jupyter.widget-view+json": {
       "model_id": "ceedd68210384b2facfa61e49c3d067c",
       "version_major": 2,
       "version_minor": 0
      },
      "text/plain": [
       "  0%|          | 0/7 [00:00<?, ?it/s]"
      ]
     },
     "metadata": {},
     "output_type": "display_data"
    }
   ],
   "source": [
    "tune_test_forecast(\n",
    "    f,\n",
    "    models,\n",
    ")"
   ]
  },
  {
   "cell_type": "code",
   "execution_count": 12,
   "id": "3a826538-8df3-4165-a367-7c272fd94de3",
   "metadata": {},
   "outputs": [
    {
     "data": {
      "text/html": [
       "<div>\n",
       "<style scoped>\n",
       "    .dataframe tbody tr th:only-of-type {\n",
       "        vertical-align: middle;\n",
       "    }\n",
       "\n",
       "    .dataframe tbody tr th {\n",
       "        vertical-align: top;\n",
       "    }\n",
       "\n",
       "    .dataframe thead th {\n",
       "        text-align: right;\n",
       "    }\n",
       "</style>\n",
       "<table border=\"1\" class=\"dataframe\">\n",
       "  <thead>\n",
       "    <tr style=\"text-align: right;\">\n",
       "      <th></th>\n",
       "      <th>ModelNickname</th>\n",
       "      <th>TestSetRMSE</th>\n",
       "      <th>InSampleRMSE</th>\n",
       "    </tr>\n",
       "  </thead>\n",
       "  <tbody>\n",
       "    <tr>\n",
       "      <th>0</th>\n",
       "      <td>xgboost</td>\n",
       "      <td>462.985493</td>\n",
       "      <td>4.115856</td>\n",
       "    </tr>\n",
       "    <tr>\n",
       "      <th>1</th>\n",
       "      <td>gbt</td>\n",
       "      <td>464.840682</td>\n",
       "      <td>111.978815</td>\n",
       "    </tr>\n",
       "    <tr>\n",
       "      <th>2</th>\n",
       "      <td>lightgbm</td>\n",
       "      <td>582.261645</td>\n",
       "      <td>112.543232</td>\n",
       "    </tr>\n",
       "    <tr>\n",
       "      <th>3</th>\n",
       "      <td>knn</td>\n",
       "      <td>788.704950</td>\n",
       "      <td>306.828988</td>\n",
       "    </tr>\n",
       "    <tr>\n",
       "      <th>4</th>\n",
       "      <td>elasticnet</td>\n",
       "      <td>794.649818</td>\n",
       "      <td>186.616620</td>\n",
       "    </tr>\n",
       "    <tr>\n",
       "      <th>5</th>\n",
       "      <td>ridge</td>\n",
       "      <td>798.711718</td>\n",
       "      <td>187.026325</td>\n",
       "    </tr>\n",
       "    <tr>\n",
       "      <th>6</th>\n",
       "      <td>mlr</td>\n",
       "      <td>803.931314</td>\n",
       "      <td>185.620629</td>\n",
       "    </tr>\n",
       "  </tbody>\n",
       "</table>\n",
       "</div>"
      ],
      "text/plain": [
       "  ModelNickname  TestSetRMSE  InSampleRMSE\n",
       "0       xgboost   462.985493      4.115856\n",
       "1           gbt   464.840682    111.978815\n",
       "2      lightgbm   582.261645    112.543232\n",
       "3           knn   788.704950    306.828988\n",
       "4    elasticnet   794.649818    186.616620\n",
       "5         ridge   798.711718    187.026325\n",
       "6           mlr   803.931314    185.620629"
      ]
     },
     "execution_count": 12,
     "metadata": {},
     "output_type": "execute_result"
    }
   ],
   "source": [
    "ms = f.export('model_summaries',determine_best_by='TestSetRMSE')\n",
    "ms[['ModelNickname','TestSetRMSE','InSampleRMSE']]"
   ]
  },
  {
   "cell_type": "markdown",
   "id": "602d53ea-4c1c-40c0-8dc7-07bdbbf57c05",
   "metadata": {},
   "source": [
    "We will demonstrate how the confidence intervals change as they are re-evaluated using the best model according to the test RMSE."
   ]
  },
  {
   "cell_type": "markdown",
   "id": "a02abc6e-2eaf-44b5-9ee2-60a3a72a1ec3",
   "metadata": {},
   "source": [
    "### Evaluate Interval"
   ]
  },
  {
   "cell_type": "code",
   "execution_count": 13,
   "id": "139ea71b-3778-4881-a722-b5aeeaf45340",
   "metadata": {},
   "outputs": [
    {
     "data": {
      "image/png": "[encoded data removed]",
      "text/plain": [
       "<Figure size 1200x600 with 1 Axes>"
      ]
     },
     "metadata": {},
     "output_type": "display_data"
    }
   ],
   "source": [
    "fig, ax = plt.subplots(figsize=(12,6))\n",
    "f.plot(ci=True,models='top_1',order_by='TestSetRMSE',ax=ax)\n",
    "sns.lineplot(\n",
    "    y = 'First.Time.Visits',\n",
    "    x = 'Date',\n",
    "    data = visits_sep.reset_index(),\n",
    "    ax = ax,\n",
    "    label = 'held-out actuals',\n",
    "    color = 'green',\n",
    "    alpha = 0.7,\n",
    ")\n",
    "plt.show()"
   ]
  },
  {
   "cell_type": "code",
   "execution_count": 14,
   "id": "a2921e46-f19f-4101-8006-76d23ddc4760",
   "metadata": {},
   "outputs": [
    {
     "data": {
      "text/html": [
       "<div>\n",
       "<style scoped>\n",
       "    .dataframe tbody tr th:only-of-type {\n",
       "        vertical-align: middle;\n",
       "    }\n",
       "\n",
       "    .dataframe tbody tr th {\n",
       "        vertical-align: top;\n",
       "    }\n",
       "\n",
       "    .dataframe thead th {\n",
       "        text-align: right;\n",
       "    }\n",
       "</style>\n",
       "<table border=\"1\" class=\"dataframe\">\n",
       "  <thead>\n",
       "    <tr style=\"text-align: right;\">\n",
       "      <th></th>\n",
       "      <th>DATE</th>\n",
       "      <th>mlr</th>\n",
       "      <th>mlr_upperci</th>\n",
       "      <th>mlr_lowerci</th>\n",
       "      <th>elasticnet</th>\n",
       "      <th>elasticnet_upperci</th>\n",
       "      <th>elasticnet_lowerci</th>\n",
       "      <th>ridge</th>\n",
       "      <th>ridge_upperci</th>\n",
       "      <th>ridge_lowerci</th>\n",
       "      <th>...</th>\n",
       "      <th>knn_lowerci</th>\n",
       "      <th>xgboost</th>\n",
       "      <th>xgboost_upperci</th>\n",
       "      <th>xgboost_lowerci</th>\n",
       "      <th>lightgbm</th>\n",
       "      <th>lightgbm_upperci</th>\n",
       "      <th>lightgbm_lowerci</th>\n",
       "      <th>gbt</th>\n",
       "      <th>gbt_upperci</th>\n",
       "      <th>gbt_lowerci</th>\n",
       "    </tr>\n",
       "  </thead>\n",
       "  <tbody>\n",
       "    <tr>\n",
       "      <th>0</th>\n",
       "      <td>2020-06-21</td>\n",
       "      <td>2190.555279</td>\n",
       "      <td>3464.907755</td>\n",
       "      <td>916.202804</td>\n",
       "      <td>2194.962019</td>\n",
       "      <td>3452.970789</td>\n",
       "      <td>936.953250</td>\n",
       "      <td>2191.868075</td>\n",
       "      <td>3464.239858</td>\n",
       "      <td>919.496293</td>\n",
       "      <td>...</td>\n",
       "      <td>812.176316</td>\n",
       "      <td>2036.303101</td>\n",
       "      <td>2934.483716</td>\n",
       "      <td>1138.122485</td>\n",
       "      <td>2198.858468</td>\n",
       "      <td>3232.664729</td>\n",
       "      <td>1165.052207</td>\n",
       "      <td>2117.742600</td>\n",
       "      <td>3051.949713</td>\n",
       "      <td>1183.535488</td>\n",
       "    </tr>\n",
       "    <tr>\n",
       "      <th>1</th>\n",
       "      <td>2020-06-22</td>\n",
       "      <td>2835.674158</td>\n",
       "      <td>4110.026633</td>\n",
       "      <td>1561.321683</td>\n",
       "      <td>2823.011263</td>\n",
       "      <td>4081.020033</td>\n",
       "      <td>1565.002493</td>\n",
       "      <td>2831.886812</td>\n",
       "      <td>4104.258594</td>\n",
       "      <td>1559.515029</td>\n",
       "      <td>...</td>\n",
       "      <td>1612.281579</td>\n",
       "      <td>2707.828613</td>\n",
       "      <td>3606.009229</td>\n",
       "      <td>1809.647998</td>\n",
       "      <td>2820.575637</td>\n",
       "      <td>3854.381898</td>\n",
       "      <td>1786.769376</td>\n",
       "      <td>2655.495869</td>\n",
       "      <td>3589.702982</td>\n",
       "      <td>1721.288756</td>\n",
       "    </tr>\n",
       "    <tr>\n",
       "      <th>2</th>\n",
       "      <td>2020-06-23</td>\n",
       "      <td>2975.510723</td>\n",
       "      <td>4249.863198</td>\n",
       "      <td>1701.158248</td>\n",
       "      <td>2944.846465</td>\n",
       "      <td>4202.855235</td>\n",
       "      <td>1686.837696</td>\n",
       "      <td>2972.183687</td>\n",
       "      <td>4244.555469</td>\n",
       "      <td>1699.811904</td>\n",
       "      <td>...</td>\n",
       "      <td>1804.176316</td>\n",
       "      <td>2923.817871</td>\n",
       "      <td>3821.998486</td>\n",
       "      <td>2025.637256</td>\n",
       "      <td>2819.654176</td>\n",
       "      <td>3853.460437</td>\n",
       "      <td>1785.847915</td>\n",
       "      <td>2759.506404</td>\n",
       "      <td>3693.713517</td>\n",
       "      <td>1825.299291</td>\n",
       "    </tr>\n",
       "    <tr>\n",
       "      <th>3</th>\n",
       "      <td>2020-06-24</td>\n",
       "      <td>3038.258157</td>\n",
       "      <td>4312.610632</td>\n",
       "      <td>1763.905681</td>\n",
       "      <td>3006.932564</td>\n",
       "      <td>4264.941333</td>\n",
       "      <td>1748.923794</td>\n",
       "      <td>3033.992818</td>\n",
       "      <td>4306.364600</td>\n",
       "      <td>1761.621035</td>\n",
       "      <td>...</td>\n",
       "      <td>1673.860526</td>\n",
       "      <td>2836.598877</td>\n",
       "      <td>3734.779492</td>\n",
       "      <td>1938.418262</td>\n",
       "      <td>2824.992206</td>\n",
       "      <td>3858.798467</td>\n",
       "      <td>1791.185945</td>\n",
       "      <td>2836.227028</td>\n",
       "      <td>3770.434141</td>\n",
       "      <td>1902.019915</td>\n",
       "    </tr>\n",
       "    <tr>\n",
       "      <th>4</th>\n",
       "      <td>2020-06-25</td>\n",
       "      <td>3032.580568</td>\n",
       "      <td>4306.933043</td>\n",
       "      <td>1758.228093</td>\n",
       "      <td>3011.122478</td>\n",
       "      <td>4269.131247</td>\n",
       "      <td>1753.113708</td>\n",
       "      <td>3021.274091</td>\n",
       "      <td>4293.645873</td>\n",
       "      <td>1748.902309</td>\n",
       "      <td>...</td>\n",
       "      <td>1475.386842</td>\n",
       "      <td>2810.512207</td>\n",
       "      <td>3708.692822</td>\n",
       "      <td>1912.331592</td>\n",
       "      <td>2961.588543</td>\n",
       "      <td>3995.394805</td>\n",
       "      <td>1927.782282</td>\n",
       "      <td>2963.600278</td>\n",
       "      <td>3897.807391</td>\n",
       "      <td>2029.393166</td>\n",
       "    </tr>\n",
       "  </tbody>\n",
       "</table>\n",
       "<p>5 rows × 22 columns</p>\n",
       "</div>"
      ],
      "text/plain": [
       "        DATE          mlr  mlr_upperci  mlr_lowerci   elasticnet  \\\n",
       "0 2020-06-21  2190.555279  3464.907755   916.202804  2194.962019   \n",
       "1 2020-06-22  2835.674158  4110.026633  1561.321683  2823.011263   \n",
       "2 2020-06-23  2975.510723  4249.863198  1701.158248  2944.846465   \n",
       "3 2020-06-24  3038.258157  4312.610632  1763.905681  3006.932564   \n",
       "4 2020-06-25  3032.580568  4306.933043  1758.228093  3011.122478   \n",
       "\n",
       "   elasticnet_upperci  elasticnet_lowerci        ridge  ridge_upperci  \\\n",
       "0         3452.970789          936.953250  2191.868075    3464.239858   \n",
       "1         4081.020033         1565.002493  2831.886812    4104.258594   \n",
       "2         4202.855235         1686.837696  2972.183687    4244.555469   \n",
       "3         4264.941333         1748.923794  3033.992818    4306.364600   \n",
       "4         4269.131247         1753.113708  3021.274091    4293.645873   \n",
       "\n",
       "   ridge_lowerci  ...  knn_lowerci      xgboost  xgboost_upperci  \\\n",
       "0     919.496293  ...   812.176316  2036.303101      2934.483716   \n",
       "1    1559.515029  ...  1612.281579  2707.828613      3606.009229   \n",
       "2    1699.811904  ...  1804.176316  2923.817871      3821.998486   \n",
       "3    1761.621035  ...  1673.860526  2836.598877      3734.779492   \n",
       "4    1748.902309  ...  1475.386842  2810.512207      3708.692822   \n",
       "\n",
       "   xgboost_lowerci     lightgbm  lightgbm_upperci  lightgbm_lowerci  \\\n",
       "0      1138.122485  2198.858468       3232.664729       1165.052207   \n",
       "1      1809.647998  2820.575637       3854.381898       1786.769376   \n",
       "2      2025.637256  2819.654176       3853.460437       1785.847915   \n",
       "3      1938.418262  2824.992206       3858.798467       1791.185945   \n",
       "4      1912.331592  2961.588543       3995.394805       1927.782282   \n",
       "\n",
       "           gbt  gbt_upperci  gbt_lowerci  \n",
       "0  2117.742600  3051.949713  1183.535488  \n",
       "1  2655.495869  3589.702982  1721.288756  \n",
       "2  2759.506404  3693.713517  1825.299291  \n",
       "3  2836.227028  3770.434141  1902.019915  \n",
       "4  2963.600278  3897.807391  2029.393166  \n",
       "\n",
       "[5 rows x 22 columns]"
      ]
     },
     "execution_count": 14,
     "metadata": {},
     "output_type": "execute_result"
    }
   ],
   "source": [
    "# export test-set preds and confidence intervals\n",
    "fcsts1 = f.export(\"lvl_fcsts\",cis=True)\n",
    "fcsts1.head()"
   ]
  },
  {
   "cell_type": "markdown",
   "id": "cbc4ece6-2a9b-4c13-9481-bd8bbd13666e",
   "metadata": {},
   "source": [
    "The values in the below table are [mean scaled interval scores](https://scalecast.readthedocs.io/en/latest/Forecaster/Util.html#src.scalecast.util.metrics.msis) for confidence intervals. Lower scores are better."
   ]
  },
  {
   "cell_type": "code",
   "execution_count": 15,
   "id": "49fea8e2-f2c3-494e-a3a6-3e2abbf5dbfc",
   "metadata": {},
   "outputs": [
    {
     "data": {
      "text/html": [
       "<div>\n",
       "<style scoped>\n",
       "    .dataframe tbody tr th:only-of-type {\n",
       "        vertical-align: middle;\n",
       "    }\n",
       "\n",
       "    .dataframe tbody tr th {\n",
       "        vertical-align: top;\n",
       "    }\n",
       "\n",
       "    .dataframe thead th {\n",
       "        text-align: right;\n",
       "    }\n",
       "</style>\n",
       "<table border=\"1\" class=\"dataframe\">\n",
       "  <thead>\n",
       "    <tr style=\"text-align: right;\">\n",
       "      <th></th>\n",
       "      <th>Daily Visitors</th>\n",
       "    </tr>\n",
       "  </thead>\n",
       "  <tbody>\n",
       "    <tr>\n",
       "      <th>mlr</th>\n",
       "      <td>5.632456</td>\n",
       "    </tr>\n",
       "    <tr>\n",
       "      <th>elasticnet</th>\n",
       "      <td>5.548336</td>\n",
       "    </tr>\n",
       "    <tr>\n",
       "      <th>ridge</th>\n",
       "      <td>5.622506</td>\n",
       "    </tr>\n",
       "    <tr>\n",
       "      <th>knn</th>\n",
       "      <td>5.639715</td>\n",
       "    </tr>\n",
       "    <tr>\n",
       "      <th>xgboost</th>\n",
       "      <td>4.290089</td>\n",
       "    </tr>\n",
       "    <tr>\n",
       "      <th>lightgbm</th>\n",
       "      <td>5.196714</td>\n",
       "    </tr>\n",
       "    <tr>\n",
       "      <th>gbt</th>\n",
       "      <td>5.093425</td>\n",
       "    </tr>\n",
       "  </tbody>\n",
       "</table>\n",
       "</div>"
      ],
      "text/plain": [
       "            Daily Visitors\n",
       "mlr               5.632456\n",
       "elasticnet        5.548336\n",
       "ridge             5.622506\n",
       "knn               5.639715\n",
       "xgboost           4.290089\n",
       "lightgbm          5.196714\n",
       "gbt               5.093425"
      ]
     },
     "execution_count": 15,
     "metadata": {},
     "output_type": "execute_result"
    }
   ],
   "source": [
    "results = score_cis(\n",
    "    results_template.copy(),\n",
    "    fcsts1,\n",
    "    'Daily Visitors',\n",
    "    visits_sep,\n",
    "    visits,\n",
    "    val_len = val_len,\n",
    ")\n",
    "results"
   ]
  },
  {
   "cell_type": "markdown",
   "id": "e9649b1d-6706-428f-8168-61694fe38dc3",
   "metadata": {},
   "source": [
    "## Housing Starts  \n",
    "\n",
    "- Link to data: https://fred.stlouisfed.org/series/HOUSTNSA  \n",
    "- We will use a length of 96 observations (8 years) both to tune and test the models  \n",
    "- We want to optimize the forecasts and confidence intervals for a 24-month forecast horizon  "
   ]
  },
  {
   "cell_type": "code",
   "execution_count": 16,
   "id": "4c875f85-e1d0-46e0-956d-c485b04e49de",
   "metadata": {},
   "outputs": [],
   "source": [
    "import pandas_datareader as pdr"
   ]
  },
  {
   "cell_type": "code",
   "execution_count": 17,
   "id": "d24066d8-4a4a-437f-99bc-bd34ac6a5ce3",
   "metadata": {},
   "outputs": [],
   "source": [
    "val_len = 96\n",
    "fcst_len = 24"
   ]
  },
  {
   "cell_type": "code",
   "execution_count": 18,
   "id": "b2511667-832e-456b-be72-b91b8fb1b943",
   "metadata": {},
   "outputs": [
    {
     "data": {
      "text/html": [
       "<div>\n",
       "<style scoped>\n",
       "    .dataframe tbody tr th:only-of-type {\n",
       "        vertical-align: middle;\n",
       "    }\n",
       "\n",
       "    .dataframe tbody tr th {\n",
       "        vertical-align: top;\n",
       "    }\n",
       "\n",
       "    .dataframe thead th {\n",
       "        text-align: right;\n",
       "    }\n",
       "</style>\n",
       "<table border=\"1\" class=\"dataframe\">\n",
       "  <thead>\n",
       "    <tr style=\"text-align: right;\">\n",
       "      <th></th>\n",
       "      <th>HOUSTNSA</th>\n",
       "    </tr>\n",
       "    <tr>\n",
       "      <th>DATE</th>\n",
       "      <th></th>\n",
       "    </tr>\n",
       "  </thead>\n",
       "  <tbody>\n",
       "    <tr>\n",
       "      <th>1959-01-01</th>\n",
       "      <td>96.2</td>\n",
       "    </tr>\n",
       "    <tr>\n",
       "      <th>1959-02-01</th>\n",
       "      <td>99.0</td>\n",
       "    </tr>\n",
       "    <tr>\n",
       "      <th>1959-03-01</th>\n",
       "      <td>127.7</td>\n",
       "    </tr>\n",
       "    <tr>\n",
       "      <th>1959-04-01</th>\n",
       "      <td>150.8</td>\n",
       "    </tr>\n",
       "    <tr>\n",
       "      <th>1959-05-01</th>\n",
       "      <td>152.5</td>\n",
       "    </tr>\n",
       "  </tbody>\n",
       "</table>\n",
       "</div>"
      ],
      "text/plain": [
       "            HOUSTNSA\n",
       "DATE                \n",
       "1959-01-01      96.2\n",
       "1959-02-01      99.0\n",
       "1959-03-01     127.7\n",
       "1959-04-01     150.8\n",
       "1959-05-01     152.5"
      ]
     },
     "execution_count": 18,
     "metadata": {},
     "output_type": "execute_result"
    }
   ],
   "source": [
    "housing = pdr.get_data_fred('HOUSTNSA',start='1900-01-01',end='2021-06-01')\n",
    "housing.head()"
   ]
  },
  {
   "cell_type": "code",
   "execution_count": 19,
   "id": "648bb5c6-ae0a-4f43-820a-2e4f66f17a8d",
   "metadata": {},
   "outputs": [],
   "source": [
    "starts_sep = housing.iloc[-fcst_len:,0]\n",
    "starts = housing.iloc[:-fcst_len,0]"
   ]
  },
  {
   "cell_type": "code",
   "execution_count": 20,
   "id": "de69ba6d-dca0-4a3b-81c7-ebc346c3cae5",
   "metadata": {},
   "outputs": [
    {
     "data": {
      "text/plain": [
       "Forecaster(\n",
       "    DateStartActuals=1959-02-01T00:00:00.000000000\n",
       "    DateEndActuals=2019-06-01T00:00:00.000000000\n",
       "    Freq=MS\n",
       "    N_actuals=725\n",
       "    ForecastLength=24\n",
       "    Xvars=['monthsin', 'monthcos', 'quartersin', 'quartercos', 'AR1', 'AR2', 'AR3', 'AR4', 'AR5', 'AR6', 'AR7', 'AR8', 'AR9', 'AR10', 'AR11', 'AR12', 'AR13', 'AR14', 'AR15', 'AR16', 'AR17', 'AR18', 'AR19', 'AR20', 'AR21', 'AR22', 'AR23', 'AR24', 'AR25', 'AR26', 'AR27', 'AR28', 'AR29', 'AR30', 'AR31', 'AR32', 'AR33', 'AR34', 'AR35', 'AR36', 'AR37', 'AR38', 'AR39', 'AR40', 'AR41', 'AR42', 'AR43', 'AR44', 'AR45', 'AR46', 'AR47', 'AR48', 'AR49', 'AR50', 'AR51', 'AR52', 'AR53', 'AR54', 'AR55', 'AR56', 'AR57', 'AR58', 'AR59', 'AR60', 'AR61', 'AR62', 'AR63', 'AR64', 'AR65', 'AR66', 'AR67', 'AR68', 'AR69', 'AR70', 'AR71', 'AR72', 'AR73', 'AR74', 'AR75', 'AR76', 'AR77', 'AR78', 'AR79', 'AR80', 'AR81', 'AR82', 'AR83', 'AR84', 'AR85', 'AR86', 'AR87', 'AR88', 'AR89', 'AR90', 'AR91', 'AR92', 'AR93', 'AR94', 'AR95', 'AR96', 'AR97', 'AR98', 'AR99', 'AR100']\n",
       "    TestLength=96\n",
       "    ValidationMetric=rmse\n",
       "    ForecastsEvaluated=[]\n",
       "    CILevel=0.95\n",
       "    CurrentEstimator=mlr\n",
       "    GridsFile=Grids\n",
       ")"
      ]
     },
     "execution_count": 20,
     "metadata": {},
     "output_type": "execute_result"
    }
   ],
   "source": [
    "f = Forecaster(\n",
    "    y=starts,\n",
    "    current_dates=starts.index,\n",
    "    future_dates=fcst_len,\n",
    "    test_length=val_len,\n",
    "    validation_length=val_len,\n",
    "    cis=True,\n",
    ")\n",
    "# difference the data for stationary modeling\n",
    "transformer = SeriesTransformer(f)\n",
    "f = transformer.DiffTransform(1)\n",
    "# find best xvars to forecast with\n",
    "f.auto_Xvar_select(\n",
    "    estimator='elasticnet',\n",
    "    alpha=.2,\n",
    "    max_ar=100,\n",
    "    monitor='ValidationMetricValue', # not test set\n",
    ")\n",
    "f"
   ]
  },
  {
   "cell_type": "code",
   "execution_count": 21,
   "id": "c2e3cf8d-8d07-4a12-ad2d-1709bf63b677",
   "metadata": {},
   "outputs": [
    {
     "data": {
      "application/vnd.jupyter.widget-view+json": {
       "model_id": "7cd8247821464d89ac2b86b23fad5784",
       "version_major": 2,
       "version_minor": 0
      },
      "text/plain": [
       "  0%|          | 0/7 [00:00<?, ?it/s]"
      ]
     },
     "metadata": {},
     "output_type": "display_data"
    }
   ],
   "source": [
    "tune_test_forecast(\n",
    "    f,\n",
    "    models,\n",
    "    dynamic_testing = fcst_len,\n",
    ")"
   ]
  },
  {
   "cell_type": "code",
   "execution_count": 22,
   "id": "b0005df5-caf5-4676-933c-336033ca8ffe",
   "metadata": {},
   "outputs": [],
   "source": [
    "# rever the difftransform\n",
    "f = transformer.DiffRevert(1)"
   ]
  },
  {
   "cell_type": "code",
   "execution_count": 23,
   "id": "20bc0061-36e1-480c-ab1e-a8fa73161526",
   "metadata": {},
   "outputs": [
    {
     "data": {
      "text/html": [
       "<div>\n",
       "<style scoped>\n",
       "    .dataframe tbody tr th:only-of-type {\n",
       "        vertical-align: middle;\n",
       "    }\n",
       "\n",
       "    .dataframe tbody tr th {\n",
       "        vertical-align: top;\n",
       "    }\n",
       "\n",
       "    .dataframe thead th {\n",
       "        text-align: right;\n",
       "    }\n",
       "</style>\n",
       "<table border=\"1\" class=\"dataframe\">\n",
       "  <thead>\n",
       "    <tr style=\"text-align: right;\">\n",
       "      <th></th>\n",
       "      <th>ModelNickname</th>\n",
       "      <th>TestSetRMSE</th>\n",
       "      <th>InSampleRMSE</th>\n",
       "    </tr>\n",
       "  </thead>\n",
       "  <tbody>\n",
       "    <tr>\n",
       "      <th>0</th>\n",
       "      <td>gbt</td>\n",
       "      <td>20.640642</td>\n",
       "      <td>24.536810</td>\n",
       "    </tr>\n",
       "    <tr>\n",
       "      <th>1</th>\n",
       "      <td>xgboost</td>\n",
       "      <td>22.728669</td>\n",
       "      <td>0.691852</td>\n",
       "    </tr>\n",
       "    <tr>\n",
       "      <th>2</th>\n",
       "      <td>lightgbm</td>\n",
       "      <td>23.646891</td>\n",
       "      <td>27.660879</td>\n",
       "    </tr>\n",
       "    <tr>\n",
       "      <th>3</th>\n",
       "      <td>mlr</td>\n",
       "      <td>30.878321</td>\n",
       "      <td>71.624715</td>\n",
       "    </tr>\n",
       "    <tr>\n",
       "      <th>4</th>\n",
       "      <td>knn</td>\n",
       "      <td>39.261315</td>\n",
       "      <td>146.502991</td>\n",
       "    </tr>\n",
       "    <tr>\n",
       "      <th>5</th>\n",
       "      <td>ridge</td>\n",
       "      <td>46.722988</td>\n",
       "      <td>55.969584</td>\n",
       "    </tr>\n",
       "    <tr>\n",
       "      <th>6</th>\n",
       "      <td>elasticnet</td>\n",
       "      <td>53.090066</td>\n",
       "      <td>38.237499</td>\n",
       "    </tr>\n",
       "  </tbody>\n",
       "</table>\n",
       "</div>"
      ],
      "text/plain": [
       "  ModelNickname  TestSetRMSE  InSampleRMSE\n",
       "0           gbt    20.640642     24.536810\n",
       "1       xgboost    22.728669      0.691852\n",
       "2      lightgbm    23.646891     27.660879\n",
       "3           mlr    30.878321     71.624715\n",
       "4           knn    39.261315    146.502991\n",
       "5         ridge    46.722988     55.969584\n",
       "6    elasticnet    53.090066     38.237499"
      ]
     },
     "execution_count": 23,
     "metadata": {},
     "output_type": "execute_result"
    }
   ],
   "source": [
    "ms = f.export('model_summaries',determine_best_by='TestSetRMSE')\n",
    "ms[['ModelNickname','TestSetRMSE','InSampleRMSE']]"
   ]
  },
  {
   "cell_type": "markdown",
   "id": "d7aa7c09-a5bc-4ce8-a3fa-69eb7d3f68f8",
   "metadata": {},
   "source": [
    "### Evaluate Interval"
   ]
  },
  {
   "cell_type": "code",
   "execution_count": 24,
   "id": "abb2dcbd-c117-4d26-b19d-d00006a599de",
   "metadata": {},
   "outputs": [
    {
     "data": {
      "image/png": "[encoded data removed]",
      "text/plain": [
       "<Figure size 1200x600 with 1 Axes>"
      ]
     },
     "metadata": {},
     "output_type": "display_data"
    }
   ],
   "source": [
    "fig, ax = plt.subplots(figsize=(12,6))\n",
    "f.plot(ci=True,models='top_1',order_by='TestSetRMSE',ax=ax)\n",
    "sns.lineplot(\n",
    "    y = 'HOUSTNSA',\n",
    "    x = 'DATE',\n",
    "    data = starts_sep.reset_index(),\n",
    "    ax = ax,\n",
    "    label = 'held-out actuals',\n",
    "    color = 'green',\n",
    "    alpha = 0.7,\n",
    ")\n",
    "plt.show()"
   ]
  },
  {
   "cell_type": "code",
   "execution_count": 25,
   "id": "f5547709-df90-4d7c-af03-aff4240a45e4",
   "metadata": {},
   "outputs": [
    {
     "data": {
      "text/html": [
       "<div>\n",
       "<style scoped>\n",
       "    .dataframe tbody tr th:only-of-type {\n",
       "        vertical-align: middle;\n",
       "    }\n",
       "\n",
       "    .dataframe tbody tr th {\n",
       "        vertical-align: top;\n",
       "    }\n",
       "\n",
       "    .dataframe thead th {\n",
       "        text-align: right;\n",
       "    }\n",
       "</style>\n",
       "<table border=\"1\" class=\"dataframe\">\n",
       "  <thead>\n",
       "    <tr style=\"text-align: right;\">\n",
       "      <th></th>\n",
       "      <th>Housing Starts</th>\n",
       "    </tr>\n",
       "  </thead>\n",
       "  <tbody>\n",
       "    <tr>\n",
       "      <th>mlr</th>\n",
       "      <td>6.012800</td>\n",
       "    </tr>\n",
       "    <tr>\n",
       "      <th>elasticnet</th>\n",
       "      <td>8.268185</td>\n",
       "    </tr>\n",
       "    <tr>\n",
       "      <th>ridge</th>\n",
       "      <td>7.699270</td>\n",
       "    </tr>\n",
       "    <tr>\n",
       "      <th>knn</th>\n",
       "      <td>6.128674</td>\n",
       "    </tr>\n",
       "    <tr>\n",
       "      <th>xgboost</th>\n",
       "      <td>4.452090</td>\n",
       "    </tr>\n",
       "    <tr>\n",
       "      <th>lightgbm</th>\n",
       "      <td>4.298008</td>\n",
       "    </tr>\n",
       "    <tr>\n",
       "      <th>gbt</th>\n",
       "      <td>4.877682</td>\n",
       "    </tr>\n",
       "  </tbody>\n",
       "</table>\n",
       "</div>"
      ],
      "text/plain": [
       "            Housing Starts\n",
       "mlr               6.012800\n",
       "elasticnet        8.268185\n",
       "ridge             7.699270\n",
       "knn               6.128674\n",
       "xgboost           4.452090\n",
       "lightgbm          4.298008\n",
       "gbt               4.877682"
      ]
     },
     "execution_count": 25,
     "metadata": {},
     "output_type": "execute_result"
    }
   ],
   "source": [
    "housing_fcsts1 = f.export(\"lvl_fcsts\",cis=True)\n",
    "housing_results = score_cis(\n",
    "    results_template.copy(),\n",
    "    housing_fcsts1,\n",
    "    'Housing Starts',\n",
    "    starts_sep,\n",
    "    starts,\n",
    "    val_len = val_len,\n",
    "    m_ = 12, # monthly seasonality\n",
    ")\n",
    "housing_results"
   ]
  },
  {
   "cell_type": "code",
   "execution_count": 26,
   "id": "0ed70de6-8acb-424c-b6a9-f57d79452a14",
   "metadata": {},
   "outputs": [
    {
     "data": {
      "text/html": [
       "<div>\n",
       "<style scoped>\n",
       "    .dataframe tbody tr th:only-of-type {\n",
       "        vertical-align: middle;\n",
       "    }\n",
       "\n",
       "    .dataframe tbody tr th {\n",
       "        vertical-align: top;\n",
       "    }\n",
       "\n",
       "    .dataframe thead th {\n",
       "        text-align: right;\n",
       "    }\n",
       "</style>\n",
       "<table border=\"1\" class=\"dataframe\">\n",
       "  <thead>\n",
       "    <tr style=\"text-align: right;\">\n",
       "      <th></th>\n",
       "      <th>Daily Visitors</th>\n",
       "      <th>Housing Starts</th>\n",
       "    </tr>\n",
       "  </thead>\n",
       "  <tbody>\n",
       "    <tr>\n",
       "      <th>mlr</th>\n",
       "      <td>5.632456</td>\n",
       "      <td>6.012800</td>\n",
       "    </tr>\n",
       "    <tr>\n",
       "      <th>elasticnet</th>\n",
       "      <td>5.548336</td>\n",
       "      <td>8.268185</td>\n",
       "    </tr>\n",
       "    <tr>\n",
       "      <th>ridge</th>\n",
       "      <td>5.622506</td>\n",
       "      <td>7.699270</td>\n",
       "    </tr>\n",
       "    <tr>\n",
       "      <th>knn</th>\n",
       "      <td>5.639715</td>\n",
       "      <td>6.128674</td>\n",
       "    </tr>\n",
       "    <tr>\n",
       "      <th>xgboost</th>\n",
       "      <td>4.290089</td>\n",
       "      <td>4.452090</td>\n",
       "    </tr>\n",
       "    <tr>\n",
       "      <th>lightgbm</th>\n",
       "      <td>5.196714</td>\n",
       "      <td>4.298008</td>\n",
       "    </tr>\n",
       "    <tr>\n",
       "      <th>gbt</th>\n",
       "      <td>5.093425</td>\n",
       "      <td>4.877682</td>\n",
       "    </tr>\n",
       "  </tbody>\n",
       "</table>\n",
       "</div>"
      ],
      "text/plain": [
       "            Daily Visitors  Housing Starts\n",
       "mlr               5.632456        6.012800\n",
       "elasticnet        5.548336        8.268185\n",
       "ridge             5.622506        7.699270\n",
       "knn               5.639715        6.128674\n",
       "xgboost           4.290089        4.452090\n",
       "lightgbm          5.196714        4.298008\n",
       "gbt               5.093425        4.877682"
      ]
     },
     "execution_count": 26,
     "metadata": {},
     "output_type": "execute_result"
    }
   ],
   "source": [
    "results['Housing Starts'] = housing_results['Housing Starts']\n",
    "results"
   ]
  },
  {
   "cell_type": "markdown",
   "id": "a8229afa-1e36-42ee-bea5-e577a96d925d",
   "metadata": {},
   "source": [
    "## Avocado Sales  \n",
    "\n",
    "- Link to data: https://www.kaggle.com/datasets/neuromusic/avocado-prices  \n",
    "- We will use a length of 20 observations both to tune and test the models (95% CIs require at least 20 observations in the test set)  \n",
    "- We want to optimize the forecasts and confidence intervals for a 20-week forecast horizon  "
   ]
  },
  {
   "cell_type": "code",
   "execution_count": 27,
   "id": "f12e2b90-41fc-48df-8e49-364f003bfa32",
   "metadata": {},
   "outputs": [],
   "source": [
    "# change display settings\n",
    "pd.options.display.float_format = '{:,.2f}'.format"
   ]
  },
  {
   "cell_type": "code",
   "execution_count": 28,
   "id": "7b4468f5-f426-49cb-86bc-6980cedfd819",
   "metadata": {},
   "outputs": [],
   "source": [
    "val_len = 20\n",
    "fcst_len = 20"
   ]
  },
  {
   "cell_type": "code",
   "execution_count": 30,
   "id": "6db70ab6-d88f-4548-8b18-13e024e55968",
   "metadata": {
    "scrolled": true
   },
   "outputs": [],
   "source": [
    "avocados = pd.read_csv(r'C:\\Users\\jinlei\\Documents\\2023\\mikekeith52\\data\\avocado.csv',parse_dates = ['Date'])\n",
    "volume = avocados.groupby('Date')['Total Volume'].sum()"
   ]
  },
  {
   "cell_type": "code",
   "execution_count": 31,
   "id": "fa29f426-b73d-4ccf-bc9e-b6b122423732",
   "metadata": {},
   "outputs": [
    {
     "data": {
      "text/html": [
       "<div>\n",
       "<style scoped>\n",
       "    .dataframe tbody tr th:only-of-type {\n",
       "        vertical-align: middle;\n",
       "    }\n",
       "\n",
       "    .dataframe tbody tr th {\n",
       "        vertical-align: top;\n",
       "    }\n",
       "\n",
       "    .dataframe thead th {\n",
       "        text-align: right;\n",
       "    }\n",
       "</style>\n",
       "<table border=\"1\" class=\"dataframe\">\n",
       "  <thead>\n",
       "    <tr style=\"text-align: right;\">\n",
       "      <th></th>\n",
       "      <th>Date</th>\n",
       "      <th>Total Volume</th>\n",
       "    </tr>\n",
       "  </thead>\n",
       "  <tbody>\n",
       "    <tr>\n",
       "      <th>0</th>\n",
       "      <td>2015-01-04</td>\n",
       "      <td>84,674,337.20</td>\n",
       "    </tr>\n",
       "    <tr>\n",
       "      <th>1</th>\n",
       "      <td>2015-01-11</td>\n",
       "      <td>78,555,807.24</td>\n",
       "    </tr>\n",
       "    <tr>\n",
       "      <th>2</th>\n",
       "      <td>2015-01-18</td>\n",
       "      <td>78,388,784.08</td>\n",
       "    </tr>\n",
       "    <tr>\n",
       "      <th>3</th>\n",
       "      <td>2015-01-25</td>\n",
       "      <td>76,466,281.07</td>\n",
       "    </tr>\n",
       "    <tr>\n",
       "      <th>4</th>\n",
       "      <td>2015-02-01</td>\n",
       "      <td>119,453,235.25</td>\n",
       "    </tr>\n",
       "  </tbody>\n",
       "</table>\n",
       "</div>"
      ],
      "text/plain": [
       "        Date   Total Volume\n",
       "0 2015-01-04  84,674,337.20\n",
       "1 2015-01-11  78,555,807.24\n",
       "2 2015-01-18  78,388,784.08\n",
       "3 2015-01-25  76,466,281.07\n",
       "4 2015-02-01 119,453,235.25"
      ]
     },
     "execution_count": 31,
     "metadata": {},
     "output_type": "execute_result"
    }
   ],
   "source": [
    "volume.reset_index().head()"
   ]
  },
  {
   "cell_type": "code",
   "execution_count": 32,
   "id": "e5a82b42-9976-42c2-8267-132d64606047",
   "metadata": {},
   "outputs": [],
   "source": [
    "volume_sep = volume.iloc[-fcst_len:]\n",
    "volume = volume.iloc[:-fcst_len]"
   ]
  },
  {
   "cell_type": "code",
   "execution_count": 33,
   "id": "53ffabff-c451-401e-a3d7-0c8255a60607",
   "metadata": {},
   "outputs": [
    {
     "data": {
      "text/plain": [
       "Forecaster(\n",
       "    DateStartActuals=2016-01-10T00:00:00.000000000\n",
       "    DateEndActuals=2017-11-05T00:00:00.000000000\n",
       "    Freq=W-SUN\n",
       "    N_actuals=96\n",
       "    ForecastLength=20\n",
       "    Xvars=['weeksin', 'weekcos', 'AR1', 'AR2', 'AR3', 'AR4', 'AR5', 'AR6', 'AR7', 'AR8', 'AR9']\n",
       "    TestLength=20\n",
       "    ValidationMetric=rmse\n",
       "    ForecastsEvaluated=[]\n",
       "    CILevel=0.95\n",
       "    CurrentEstimator=mlr\n",
       "    GridsFile=Grids\n",
       ")"
      ]
     },
     "execution_count": 33,
     "metadata": {},
     "output_type": "execute_result"
    }
   ],
   "source": [
    "f = Forecaster(\n",
    "    y = volume,\n",
    "    current_dates = volume.index,\n",
    "    future_dates = fcst_len,\n",
    "    test_length = val_len,\n",
    "    validation_length = val_len,\n",
    "    cis = True,\n",
    ")\n",
    "\n",
    "# difference the data for stationary modeling\n",
    "transformer = SeriesTransformer(f)\n",
    "f = transformer.DiffTransform(1)\n",
    "f = transformer.DiffTransform(52) # seasonal differencing\n",
    "# find best xvars\n",
    "f.auto_Xvar_select(\n",
    "    estimator='elasticnet',\n",
    "    alpha=.2,\n",
    "    max_ar=26,\n",
    "    monitor='ValidationMetricValue', # not test set\n",
    "    decomp_trend=False,\n",
    ")\n",
    "f"
   ]
  },
  {
   "cell_type": "code",
   "execution_count": 34,
   "id": "603f8d7e-464b-4422-aa49-3db2807c5da0",
   "metadata": {},
   "outputs": [
    {
     "data": {
      "application/vnd.jupyter.widget-view+json": {
       "model_id": "a21967f565e845b8a5e248f8a3c6df5f",
       "version_major": 2,
       "version_minor": 0
      },
      "text/plain": [
       "  0%|          | 0/7 [00:00<?, ?it/s]"
      ]
     },
     "metadata": {},
     "output_type": "display_data"
    }
   ],
   "source": [
    "tune_test_forecast(\n",
    "    f,\n",
    "    models,\n",
    "    dynamic_testing = fcst_len,\n",
    ")"
   ]
  },
  {
   "cell_type": "code",
   "execution_count": 35,
   "id": "47a2cda6-dab7-49b8-9f5f-fc8a4e253893",
   "metadata": {},
   "outputs": [],
   "source": [
    "# revert differencing\n",
    "f = transformer.DiffRevert(52)\n",
    "f = transformer.DiffRevert(1)"
   ]
  },
  {
   "cell_type": "code",
   "execution_count": 36,
   "id": "420fcf79-f041-494d-b41a-abb192b6931c",
   "metadata": {},
   "outputs": [
    {
     "data": {
      "text/html": [
       "<div>\n",
       "<style scoped>\n",
       "    .dataframe tbody tr th:only-of-type {\n",
       "        vertical-align: middle;\n",
       "    }\n",
       "\n",
       "    .dataframe tbody tr th {\n",
       "        vertical-align: top;\n",
       "    }\n",
       "\n",
       "    .dataframe thead th {\n",
       "        text-align: right;\n",
       "    }\n",
       "</style>\n",
       "<table border=\"1\" class=\"dataframe\">\n",
       "  <thead>\n",
       "    <tr style=\"text-align: right;\">\n",
       "      <th></th>\n",
       "      <th>ModelNickname</th>\n",
       "      <th>TestSetRMSE</th>\n",
       "      <th>InSampleRMSE</th>\n",
       "    </tr>\n",
       "  </thead>\n",
       "  <tbody>\n",
       "    <tr>\n",
       "      <th>0</th>\n",
       "      <td>knn</td>\n",
       "      <td>12,792,100.70</td>\n",
       "      <td>14,090,078.03</td>\n",
       "    </tr>\n",
       "    <tr>\n",
       "      <th>1</th>\n",
       "      <td>ridge</td>\n",
       "      <td>13,457,205.75</td>\n",
       "      <td>23,224,298.55</td>\n",
       "    </tr>\n",
       "    <tr>\n",
       "      <th>2</th>\n",
       "      <td>elasticnet</td>\n",
       "      <td>13,532,378.91</td>\n",
       "      <td>23,130,014.21</td>\n",
       "    </tr>\n",
       "    <tr>\n",
       "      <th>3</th>\n",
       "      <td>mlr</td>\n",
       "      <td>13,532,379.32</td>\n",
       "      <td>23,130,012.59</td>\n",
       "    </tr>\n",
       "    <tr>\n",
       "      <th>4</th>\n",
       "      <td>lightgbm</td>\n",
       "      <td>15,265,692.24</td>\n",
       "      <td>21,365,608.04</td>\n",
       "    </tr>\n",
       "    <tr>\n",
       "      <th>5</th>\n",
       "      <td>gbt</td>\n",
       "      <td>18,743,376.02</td>\n",
       "      <td>18,399,299.04</td>\n",
       "    </tr>\n",
       "    <tr>\n",
       "      <th>6</th>\n",
       "      <td>xgboost</td>\n",
       "      <td>23,227,529.88</td>\n",
       "      <td>3.72</td>\n",
       "    </tr>\n",
       "  </tbody>\n",
       "</table>\n",
       "</div>"
      ],
      "text/plain": [
       "  ModelNickname   TestSetRMSE  InSampleRMSE\n",
       "0           knn 12,792,100.70 14,090,078.03\n",
       "1         ridge 13,457,205.75 23,224,298.55\n",
       "2    elasticnet 13,532,378.91 23,130,014.21\n",
       "3           mlr 13,532,379.32 23,130,012.59\n",
       "4      lightgbm 15,265,692.24 21,365,608.04\n",
       "5           gbt 18,743,376.02 18,399,299.04\n",
       "6       xgboost 23,227,529.88          3.72"
      ]
     },
     "execution_count": 36,
     "metadata": {},
     "output_type": "execute_result"
    }
   ],
   "source": [
    "ms = f.export('model_summaries',determine_best_by='TestSetRMSE')\n",
    "ms[['ModelNickname','TestSetRMSE','InSampleRMSE']]"
   ]
  },
  {
   "cell_type": "markdown",
   "id": "42372335-3ddc-433c-af08-ccb583494834",
   "metadata": {},
   "source": [
    "### Evaluate Interval"
   ]
  },
  {
   "cell_type": "code",
   "execution_count": 37,
   "id": "4f144e8a-4d08-45c5-add9-4e9279cc5837",
   "metadata": {},
   "outputs": [
    {
     "data": {
      "image/png": "[encoded data removed]",
      "text/plain": [
       "<Figure size 1200x600 with 1 Axes>"
      ]
     },
     "metadata": {},
     "output_type": "display_data"
    }
   ],
   "source": [
    "fig, ax = plt.subplots(figsize=(12,6))\n",
    "f.plot(ci=True,models='top_1',order_by='TestSetRMSE',ax=ax)\n",
    "sns.lineplot(\n",
    "    y = 'Total Volume',\n",
    "    x = 'Date',\n",
    "    data = volume_sep.reset_index(),\n",
    "    ax = ax,\n",
    "    label = 'held-out actuals',\n",
    "    color = 'green',\n",
    "    alpha = 0.7,\n",
    ")\n",
    "plt.show()"
   ]
  },
  {
   "cell_type": "code",
   "execution_count": 38,
   "id": "5ea861c6-86c7-47ca-a8ec-3bd912faba10",
   "metadata": {},
   "outputs": [
    {
     "data": {
      "text/html": [
       "<div>\n",
       "<style scoped>\n",
       "    .dataframe tbody tr th:only-of-type {\n",
       "        vertical-align: middle;\n",
       "    }\n",
       "\n",
       "    .dataframe tbody tr th {\n",
       "        vertical-align: top;\n",
       "    }\n",
       "\n",
       "    .dataframe thead th {\n",
       "        text-align: right;\n",
       "    }\n",
       "</style>\n",
       "<table border=\"1\" class=\"dataframe\">\n",
       "  <thead>\n",
       "    <tr style=\"text-align: right;\">\n",
       "      <th></th>\n",
       "      <th>Avocados</th>\n",
       "    </tr>\n",
       "  </thead>\n",
       "  <tbody>\n",
       "    <tr>\n",
       "      <th>mlr</th>\n",
       "      <td>8.55</td>\n",
       "    </tr>\n",
       "    <tr>\n",
       "      <th>elasticnet</th>\n",
       "      <td>8.55</td>\n",
       "    </tr>\n",
       "    <tr>\n",
       "      <th>ridge</th>\n",
       "      <td>8.48</td>\n",
       "    </tr>\n",
       "    <tr>\n",
       "      <th>knn</th>\n",
       "      <td>19.70</td>\n",
       "    </tr>\n",
       "    <tr>\n",
       "      <th>xgboost</th>\n",
       "      <td>36.51</td>\n",
       "    </tr>\n",
       "    <tr>\n",
       "      <th>lightgbm</th>\n",
       "      <td>19.81</td>\n",
       "    </tr>\n",
       "    <tr>\n",
       "      <th>gbt</th>\n",
       "      <td>7.89</td>\n",
       "    </tr>\n",
       "  </tbody>\n",
       "</table>\n",
       "</div>"
      ],
      "text/plain": [
       "            Avocados\n",
       "mlr             8.55\n",
       "elasticnet      8.55\n",
       "ridge           8.48\n",
       "knn            19.70\n",
       "xgboost        36.51\n",
       "lightgbm       19.81\n",
       "gbt             7.89"
      ]
     },
     "execution_count": 38,
     "metadata": {},
     "output_type": "execute_result"
    }
   ],
   "source": [
    "avc_fcsts1 = f.export(\"lvl_fcsts\",cis=True)\n",
    "avc_results = score_cis(\n",
    "    results_template.copy(),\n",
    "    avc_fcsts1,\n",
    "    'Avocados',\n",
    "    volume_sep,\n",
    "    volume,\n",
    "    val_len = val_len,\n",
    "    models = models,\n",
    ")\n",
    "avc_results"
   ]
  },
  {
   "cell_type": "code",
   "execution_count": 39,
   "id": "1b6a8d3c-88d8-4e49-9650-b26c1d8b2607",
   "metadata": {},
   "outputs": [
    {
     "data": {
      "text/html": [
       "<div>\n",
       "<style scoped>\n",
       "    .dataframe tbody tr th:only-of-type {\n",
       "        vertical-align: middle;\n",
       "    }\n",
       "\n",
       "    .dataframe tbody tr th {\n",
       "        vertical-align: top;\n",
       "    }\n",
       "\n",
       "    .dataframe thead th {\n",
       "        text-align: right;\n",
       "    }\n",
       "</style>\n",
       "<table border=\"1\" class=\"dataframe\">\n",
       "  <thead>\n",
       "    <tr style=\"text-align: right;\">\n",
       "      <th></th>\n",
       "      <th>Daily Visitors</th>\n",
       "      <th>Housing Starts</th>\n",
       "      <th>Avocados</th>\n",
       "    </tr>\n",
       "  </thead>\n",
       "  <tbody>\n",
       "    <tr>\n",
       "      <th>mlr</th>\n",
       "      <td>5.63</td>\n",
       "      <td>6.01</td>\n",
       "      <td>8.55</td>\n",
       "    </tr>\n",
       "    <tr>\n",
       "      <th>elasticnet</th>\n",
       "      <td>5.55</td>\n",
       "      <td>8.27</td>\n",
       "      <td>8.55</td>\n",
       "    </tr>\n",
       "    <tr>\n",
       "      <th>ridge</th>\n",
       "      <td>5.62</td>\n",
       "      <td>7.70</td>\n",
       "      <td>8.48</td>\n",
       "    </tr>\n",
       "    <tr>\n",
       "      <th>knn</th>\n",
       "      <td>5.64</td>\n",
       "      <td>6.13</td>\n",
       "      <td>19.70</td>\n",
       "    </tr>\n",
       "    <tr>\n",
       "      <th>xgboost</th>\n",
       "      <td>4.29</td>\n",
       "      <td>4.45</td>\n",
       "      <td>36.51</td>\n",
       "    </tr>\n",
       "    <tr>\n",
       "      <th>lightgbm</th>\n",
       "      <td>5.20</td>\n",
       "      <td>4.30</td>\n",
       "      <td>19.81</td>\n",
       "    </tr>\n",
       "    <tr>\n",
       "      <th>gbt</th>\n",
       "      <td>5.09</td>\n",
       "      <td>4.88</td>\n",
       "      <td>7.89</td>\n",
       "    </tr>\n",
       "  </tbody>\n",
       "</table>\n",
       "</div>"
      ],
      "text/plain": [
       "            Daily Visitors  Housing Starts  Avocados\n",
       "mlr                   5.63            6.01      8.55\n",
       "elasticnet            5.55            8.27      8.55\n",
       "ridge                 5.62            7.70      8.48\n",
       "knn                   5.64            6.13     19.70\n",
       "xgboost               4.29            4.45     36.51\n",
       "lightgbm              5.20            4.30     19.81\n",
       "gbt                   5.09            4.88      7.89"
      ]
     },
     "execution_count": 39,
     "metadata": {},
     "output_type": "execute_result"
    }
   ],
   "source": [
    "results['Avocados'] = avc_results['Avocados']\n",
    "results"
   ]
  },
  {
   "cell_type": "markdown",
   "id": "0ef44435-ea97-48f9-81a1-9b3a7627b62e",
   "metadata": {},
   "source": [
    "## All Aggregated Results"
   ]
  },
  {
   "cell_type": "code",
   "execution_count": 40,
   "id": "31551db0-9bc4-4e4f-97c3-f584acfd6178",
   "metadata": {},
   "outputs": [
    {
     "data": {
      "image/png": "[encoded data removed]",
      "text/plain": [
       "<Figure size 1200x600 with 2 Axes>"
      ]
     },
     "metadata": {},
     "output_type": "display_data"
    }
   ],
   "source": [
    "_, ax = plt.subplots(figsize=(12,6))\n",
    "sns.heatmap(\n",
    "    results,\n",
    "    annot=True,\n",
    "    fmt='.2f',\n",
    "    cmap=\"Spectral_r\",\n",
    "    ax=ax\n",
    ")\n",
    "plt.show()"
   ]
  },
  {
   "cell_type": "markdown",
   "id": "34461e58-a6ae-4ea2-b84d-154eec17a161",
   "metadata": {},
   "source": [
    "For the most part, the linear models set the best intervals and the boosted tree models were very good or very bad, with GBT more towards the bad side."
   ]
  },
  {
   "cell_type": "markdown",
   "id": "1c8a0349-97cb-4d6d-a828-4510e4fccdfc",
   "metadata": {},
   "source": [
    "## Benchmark Against StatsModels ARIMA\n",
    "- Confidence intervals come from StatsModels but the auto-ARIMA process is from [PMDARIMA](https://alkaline-ml.com/pmdarima/modules/generated/pmdarima.arima.auto_arima.html#pmdarima.arima.auto_arima)."
   ]
  },
  {
   "cell_type": "code",
   "execution_count": 41,
   "id": "9cd06262-4ce5-4273-8201-86c2a53e35a3",
   "metadata": {},
   "outputs": [],
   "source": [
    "from scalecast.auxmodels import auto_arima"
   ]
  },
  {
   "cell_type": "code",
   "execution_count": 42,
   "id": "c0b112ac-4d54-4850-85da-5580624da400",
   "metadata": {},
   "outputs": [],
   "source": [
    "all_series = {\n",
    "    # series,out-of-sample series,seasonal step\n",
    "    'visitors':[visits,visits_sep,1],\n",
    "    'housing starts':[starts,starts_sep,12],\n",
    "    'avocados':[volume,volume_sep,1]\n",
    "}\n",
    "arima_conformal_results = pd.DataFrame()\n",
    "arima_sm_results = pd.DataFrame()"
   ]
  },
  {
   "cell_type": "code",
   "execution_count": 43,
   "id": "440aca08-918a-43a5-b6ca-8a84ec6e94eb",
   "metadata": {},
   "outputs": [
    {
     "name": "stdout",
     "output_type": "stream",
     "text": [
      "visitors\n",
      "housing starts\n",
      "avocados\n"
     ]
    }
   ],
   "source": [
    "for k, v in all_series.items():\n",
    "    print(k)\n",
    "    f = Forecaster(\n",
    "        y=v[0],\n",
    "        current_dates=v[0].index,\n",
    "        future_dates=len(v[1]),\n",
    "        test_length = len(v[1]),\n",
    "        cis=True,\n",
    "    )\n",
    "    auto_arima(f,m=v[2])\n",
    "    arima_results = f.export(\"lvl_fcsts\",cis=True)\n",
    "    # scalecast intervals\n",
    "    arima_conformal_results.loc[k,'MSIS'] = metrics.msis(\n",
    "        a = v[1].values,\n",
    "        uf = arima_results['auto_arima_upperci'].values,\n",
    "        lf = arima_results['auto_arima_lowerci'].values,\n",
    "        obs = v[0].values,\n",
    "        m = v[2],\n",
    "    )\n",
    "    # statsmodels intervals\n",
    "    cis = f.regr.get_forecast(len(v[1])).conf_int()\n",
    "    arima_sm_results.loc[k,'MSIS'] = metrics.msis(\n",
    "        a = v[1].values,\n",
    "        uf = cis.T[1],\n",
    "        lf = cis.T[0],\n",
    "        obs = v[0].values,\n",
    "        m = v[2],\n",
    "    )"
   ]
  },
  {
   "cell_type": "markdown",
   "id": "d2d0b403-1740-4a21-b3d6-3f0e084d4b7f",
   "metadata": {},
   "source": [
    "### MSIS Results - ARIMA Scalecast"
   ]
  },
  {
   "cell_type": "code",
   "execution_count": 44,
   "id": "75388b0f-fa49-44e3-bb90-1703a81f49c3",
   "metadata": {},
   "outputs": [
    {
     "data": {
      "text/html": [
       "<div>\n",
       "<style scoped>\n",
       "    .dataframe tbody tr th:only-of-type {\n",
       "        vertical-align: middle;\n",
       "    }\n",
       "\n",
       "    .dataframe tbody tr th {\n",
       "        vertical-align: top;\n",
       "    }\n",
       "\n",
       "    .dataframe thead th {\n",
       "        text-align: right;\n",
       "    }\n",
       "</style>\n",
       "<table border=\"1\" class=\"dataframe\">\n",
       "  <thead>\n",
       "    <tr style=\"text-align: right;\">\n",
       "      <th></th>\n",
       "      <th>MSIS</th>\n",
       "    </tr>\n",
       "  </thead>\n",
       "  <tbody>\n",
       "    <tr>\n",
       "      <th>visitors</th>\n",
       "      <td>4.97</td>\n",
       "    </tr>\n",
       "    <tr>\n",
       "      <th>housing starts</th>\n",
       "      <td>24.90</td>\n",
       "    </tr>\n",
       "    <tr>\n",
       "      <th>avocados</th>\n",
       "      <td>23.15</td>\n",
       "    </tr>\n",
       "  </tbody>\n",
       "</table>\n",
       "</div>"
      ],
      "text/plain": [
       "                MSIS\n",
       "visitors        4.97\n",
       "housing starts 24.90\n",
       "avocados       23.15"
      ]
     },
     "execution_count": 44,
     "metadata": {},
     "output_type": "execute_result"
    }
   ],
   "source": [
    "# results from the scalecast intervals\n",
    "arima_conformal_results"
   ]
  },
  {
   "cell_type": "code",
   "execution_count": 45,
   "id": "7efb28b2-e173-4430-8df5-de7b36748961",
   "metadata": {},
   "outputs": [
    {
     "data": {
      "text/plain": [
       "MSIS   17.67\n",
       "dtype: float64"
      ]
     },
     "execution_count": 45,
     "metadata": {},
     "output_type": "execute_result"
    }
   ],
   "source": [
    "arima_conformal_results.mean()"
   ]
  },
  {
   "cell_type": "markdown",
   "id": "8e98fcd8-35c0-4849-8463-76c81f3fea93",
   "metadata": {},
   "source": [
    "### MSIS Results - ARIMA StatsModels"
   ]
  },
  {
   "cell_type": "code",
   "execution_count": 46,
   "id": "1c4553ce-e8d4-4034-97b7-61f98505b315",
   "metadata": {},
   "outputs": [
    {
     "data": {
      "text/html": [
       "<div>\n",
       "<style scoped>\n",
       "    .dataframe tbody tr th:only-of-type {\n",
       "        vertical-align: middle;\n",
       "    }\n",
       "\n",
       "    .dataframe tbody tr th {\n",
       "        vertical-align: top;\n",
       "    }\n",
       "\n",
       "    .dataframe thead th {\n",
       "        text-align: right;\n",
       "    }\n",
       "</style>\n",
       "<table border=\"1\" class=\"dataframe\">\n",
       "  <thead>\n",
       "    <tr style=\"text-align: right;\">\n",
       "      <th></th>\n",
       "      <th>MSIS</th>\n",
       "    </tr>\n",
       "  </thead>\n",
       "  <tbody>\n",
       "    <tr>\n",
       "      <th>visitors</th>\n",
       "      <td>5.87</td>\n",
       "    </tr>\n",
       "    <tr>\n",
       "      <th>housing starts</th>\n",
       "      <td>5.62</td>\n",
       "    </tr>\n",
       "    <tr>\n",
       "      <th>avocados</th>\n",
       "      <td>19.94</td>\n",
       "    </tr>\n",
       "  </tbody>\n",
       "</table>\n",
       "</div>"
      ],
      "text/plain": [
       "                MSIS\n",
       "visitors        5.87\n",
       "housing starts  5.62\n",
       "avocados       19.94"
      ]
     },
     "execution_count": 46,
     "metadata": {},
     "output_type": "execute_result"
    }
   ],
   "source": [
    "# results from the statsmodels intervals\n",
    "arima_sm_results"
   ]
  },
  {
   "cell_type": "code",
   "execution_count": 47,
   "id": "2c1e5e51-b66a-43dc-882a-eac9532b5f0b",
   "metadata": {},
   "outputs": [
    {
     "data": {
      "text/plain": [
       "MSIS   10.48\n",
       "dtype: float64"
      ]
     },
     "execution_count": 47,
     "metadata": {},
     "output_type": "execute_result"
    }
   ],
   "source": [
    "arima_sm_results.mean()"
   ]
  },
  {
   "cell_type": "code",
   "execution_count": 48,
   "id": "4bb41771-2e7b-41cc-94ee-e774e907735c",
   "metadata": {},
   "outputs": [
    {
     "data": {
      "text/html": [
       "<div>\n",
       "<style scoped>\n",
       "    .dataframe tbody tr th:only-of-type {\n",
       "        vertical-align: middle;\n",
       "    }\n",
       "\n",
       "    .dataframe tbody tr th {\n",
       "        vertical-align: top;\n",
       "    }\n",
       "\n",
       "    .dataframe thead th {\n",
       "        text-align: right;\n",
       "    }\n",
       "</style>\n",
       "<table border=\"1\" class=\"dataframe\">\n",
       "  <thead>\n",
       "    <tr style=\"text-align: right;\">\n",
       "      <th></th>\n",
       "      <th>mlr</th>\n",
       "      <th>elasticnet</th>\n",
       "      <th>ridge</th>\n",
       "      <th>knn</th>\n",
       "      <th>xgboost</th>\n",
       "      <th>lightgbm</th>\n",
       "      <th>gbt</th>\n",
       "      <th>arima (conformal)</th>\n",
       "      <th>arima (statsmodels) - benchmark</th>\n",
       "    </tr>\n",
       "  </thead>\n",
       "  <tbody>\n",
       "    <tr>\n",
       "      <th>Daily Visitors</th>\n",
       "      <td>5.63</td>\n",
       "      <td>5.55</td>\n",
       "      <td>5.62</td>\n",
       "      <td>5.64</td>\n",
       "      <td>4.29</td>\n",
       "      <td>5.20</td>\n",
       "      <td>5.09</td>\n",
       "      <td>4.97</td>\n",
       "      <td>5.87</td>\n",
       "    </tr>\n",
       "    <tr>\n",
       "      <th>Housing Starts</th>\n",
       "      <td>6.01</td>\n",
       "      <td>8.27</td>\n",
       "      <td>7.70</td>\n",
       "      <td>6.13</td>\n",
       "      <td>4.45</td>\n",
       "      <td>4.30</td>\n",
       "      <td>4.88</td>\n",
       "      <td>24.90</td>\n",
       "      <td>5.62</td>\n",
       "    </tr>\n",
       "    <tr>\n",
       "      <th>Avocados</th>\n",
       "      <td>8.55</td>\n",
       "      <td>8.55</td>\n",
       "      <td>8.48</td>\n",
       "      <td>19.70</td>\n",
       "      <td>36.51</td>\n",
       "      <td>19.81</td>\n",
       "      <td>7.89</td>\n",
       "      <td>23.15</td>\n",
       "      <td>19.94</td>\n",
       "    </tr>\n",
       "  </tbody>\n",
       "</table>\n",
       "</div>"
      ],
      "text/plain": [
       "                mlr  elasticnet  ridge   knn  xgboost  lightgbm  gbt  \\\n",
       "Daily Visitors 5.63        5.55   5.62  5.64     4.29      5.20 5.09   \n",
       "Housing Starts 6.01        8.27   7.70  6.13     4.45      4.30 4.88   \n",
       "Avocados       8.55        8.55   8.48 19.70    36.51     19.81 7.89   \n",
       "\n",
       "                arima (conformal)  arima (statsmodels) - benchmark  \n",
       "Daily Visitors               4.97                             5.87  \n",
       "Housing Starts              24.90                             5.62  \n",
       "Avocados                    23.15                            19.94  "
      ]
     },
     "execution_count": 48,
     "metadata": {},
     "output_type": "execute_result"
    }
   ],
   "source": [
    "all_results = results.copy()\n",
    "all_results.loc['arima (conformal)'] =  arima_conformal_results.T.values[0]\n",
    "all_results.loc['arima (statsmodels) - benchmark'] = arima_sm_results.T.values[0]\n",
    "all_results = all_results.T\n",
    "all_results"
   ]
  },
  {
   "cell_type": "code",
   "execution_count": 49,
   "id": "080afb02-867a-4911-b31c-53738876aea7",
   "metadata": {},
   "outputs": [
    {
     "data": {
      "text/html": [
       "<style type=\"text/css\">\n",
       "#T_4dd22_row0_col0, #T_4dd22_row0_col1, #T_4dd22_row0_col2, #T_4dd22_row0_col3, #T_4dd22_row0_col4, #T_4dd22_row0_col5, #T_4dd22_row0_col6, #T_4dd22_row0_col7, #T_4dd22_row1_col4, #T_4dd22_row1_col5, #T_4dd22_row1_col6, #T_4dd22_row2_col0, #T_4dd22_row2_col1, #T_4dd22_row2_col2, #T_4dd22_row2_col3, #T_4dd22_row2_col5, #T_4dd22_row2_col6 {\n",
       "  background-color: lightgreen;\n",
       "}\n",
       "#T_4dd22_row1_col0, #T_4dd22_row1_col1, #T_4dd22_row1_col2, #T_4dd22_row1_col3, #T_4dd22_row1_col7, #T_4dd22_row2_col4, #T_4dd22_row2_col7 {\n",
       "  background-color: lightcoral;\n",
       "}\n",
       "</style>\n",
       "<table id=\"T_4dd22\">\n",
       "  <thead>\n",
       "    <tr>\n",
       "      <th class=\"blank level0\" >&nbsp;</th>\n",
       "      <th id=\"T_4dd22_level0_col0\" class=\"col_heading level0 col0\" >mlr</th>\n",
       "      <th id=\"T_4dd22_level0_col1\" class=\"col_heading level0 col1\" >elasticnet</th>\n",
       "      <th id=\"T_4dd22_level0_col2\" class=\"col_heading level0 col2\" >ridge</th>\n",
       "      <th id=\"T_4dd22_level0_col3\" class=\"col_heading level0 col3\" >knn</th>\n",
       "      <th id=\"T_4dd22_level0_col4\" class=\"col_heading level0 col4\" >xgboost</th>\n",
       "      <th id=\"T_4dd22_level0_col5\" class=\"col_heading level0 col5\" >lightgbm</th>\n",
       "      <th id=\"T_4dd22_level0_col6\" class=\"col_heading level0 col6\" >gbt</th>\n",
       "      <th id=\"T_4dd22_level0_col7\" class=\"col_heading level0 col7\" >arima (conformal)</th>\n",
       "      <th id=\"T_4dd22_level0_col8\" class=\"col_heading level0 col8\" >arima (statsmodels) - benchmark</th>\n",
       "    </tr>\n",
       "  </thead>\n",
       "  <tbody>\n",
       "    <tr>\n",
       "      <th id=\"T_4dd22_level0_row0\" class=\"row_heading level0 row0\" >Daily Visitors</th>\n",
       "      <td id=\"T_4dd22_row0_col0\" class=\"data row0 col0\" >5.632456</td>\n",
       "      <td id=\"T_4dd22_row0_col1\" class=\"data row0 col1\" >5.548336</td>\n",
       "      <td id=\"T_4dd22_row0_col2\" class=\"data row0 col2\" >5.622506</td>\n",
       "      <td id=\"T_4dd22_row0_col3\" class=\"data row0 col3\" >5.639715</td>\n",
       "      <td id=\"T_4dd22_row0_col4\" class=\"data row0 col4\" >4.290089</td>\n",
       "      <td id=\"T_4dd22_row0_col5\" class=\"data row0 col5\" >5.196714</td>\n",
       "      <td id=\"T_4dd22_row0_col6\" class=\"data row0 col6\" >5.093425</td>\n",
       "      <td id=\"T_4dd22_row0_col7\" class=\"data row0 col7\" >4.968446</td>\n",
       "      <td id=\"T_4dd22_row0_col8\" class=\"data row0 col8\" >5.866647</td>\n",
       "    </tr>\n",
       "    <tr>\n",
       "      <th id=\"T_4dd22_level0_row1\" class=\"row_heading level0 row1\" >Housing Starts</th>\n",
       "      <td id=\"T_4dd22_row1_col0\" class=\"data row1 col0\" >6.012800</td>\n",
       "      <td id=\"T_4dd22_row1_col1\" class=\"data row1 col1\" >8.268185</td>\n",
       "      <td id=\"T_4dd22_row1_col2\" class=\"data row1 col2\" >7.699270</td>\n",
       "      <td id=\"T_4dd22_row1_col3\" class=\"data row1 col3\" >6.128674</td>\n",
       "      <td id=\"T_4dd22_row1_col4\" class=\"data row1 col4\" >4.452090</td>\n",
       "      <td id=\"T_4dd22_row1_col5\" class=\"data row1 col5\" >4.298008</td>\n",
       "      <td id=\"T_4dd22_row1_col6\" class=\"data row1 col6\" >4.877682</td>\n",
       "      <td id=\"T_4dd22_row1_col7\" class=\"data row1 col7\" >24.899881</td>\n",
       "      <td id=\"T_4dd22_row1_col8\" class=\"data row1 col8\" >5.624751</td>\n",
       "    </tr>\n",
       "    <tr>\n",
       "      <th id=\"T_4dd22_level0_row2\" class=\"row_heading level0 row2\" >Avocados</th>\n",
       "      <td id=\"T_4dd22_row2_col0\" class=\"data row2 col0\" >8.551783</td>\n",
       "      <td id=\"T_4dd22_row2_col1\" class=\"data row2 col1\" >8.551783</td>\n",
       "      <td id=\"T_4dd22_row2_col2\" class=\"data row2 col2\" >8.478400</td>\n",
       "      <td id=\"T_4dd22_row2_col3\" class=\"data row2 col3\" >19.700378</td>\n",
       "      <td id=\"T_4dd22_row2_col4\" class=\"data row2 col4\" >36.505592</td>\n",
       "      <td id=\"T_4dd22_row2_col5\" class=\"data row2 col5\" >19.810258</td>\n",
       "      <td id=\"T_4dd22_row2_col6\" class=\"data row2 col6\" >7.890908</td>\n",
       "      <td id=\"T_4dd22_row2_col7\" class=\"data row2 col7\" >23.151315</td>\n",
       "      <td id=\"T_4dd22_row2_col8\" class=\"data row2 col8\" >19.944485</td>\n",
       "    </tr>\n",
       "  </tbody>\n",
       "</table>\n"
      ],
      "text/plain": [
       "<pandas.io.formats.style.Styler at 0x1d42298b850>"
      ]
     },
     "execution_count": 49,
     "metadata": {},
     "output_type": "execute_result"
    }
   ],
   "source": [
    "def highlight_rows(row):\n",
    "    ret_row = ['']*all_results.shape[1]\n",
    "    for i, c in enumerate(all_results.iloc[:,:-1]):\n",
    "        if row[c] < row['arima (statsmodels) - benchmark']:\n",
    "            ret_row[i] = 'background-color: lightgreen;'\n",
    "        else:\n",
    "            ret_row[i] = 'background-color: lightcoral;'\n",
    "    return ret_row\n",
    "\n",
    "all_results.style.apply(\n",
    "    highlight_rows,\n",
    "    axis=1,\n",
    ")"
   ]
  },
  {
   "cell_type": "markdown",
   "id": "97c71890-a291-44f0-bd10-435301c900a4",
   "metadata": {},
   "source": [
    "The above table shows which scalecast intervals performed better or worse than the ARIMA interval. Green scores are better, red are worse. The scalecast conformal intervals were on the whole better, but not always. When comparing ARIMA to ARIMA, the confidence intervals from statsmodels performed slightly worse on one series, slightly better on another, and significantly better on the remaining one. The rest of the models run through scalecast usually beat the ARIMA intervals on all datasets, except housing starts. XGBoost and Lightgbm were the only models to always beat the intervals from StatsModels. On the whole, the scalecast interval has a nice showing against the more traditional interval from ARIMA in the StatsModels package."
   ]
  },
  {
   "cell_type": "code",
   "execution_count": 50,
   "id": "2c68f1bb-93ee-4018-b074-503a992a332b",
   "metadata": {},
   "outputs": [
    {
     "data": {
      "text/html": [
       "<div>\n",
       "<style scoped>\n",
       "    .dataframe tbody tr th:only-of-type {\n",
       "        vertical-align: middle;\n",
       "    }\n",
       "\n",
       "    .dataframe tbody tr th {\n",
       "        vertical-align: top;\n",
       "    }\n",
       "\n",
       "    .dataframe thead th {\n",
       "        text-align: right;\n",
       "    }\n",
       "</style>\n",
       "<table border=\"1\" class=\"dataframe\">\n",
       "  <thead>\n",
       "    <tr style=\"text-align: right;\">\n",
       "      <th></th>\n",
       "      <th>mlr</th>\n",
       "      <th>elasticnet</th>\n",
       "      <th>ridge</th>\n",
       "      <th>knn</th>\n",
       "      <th>xgboost</th>\n",
       "      <th>lightgbm</th>\n",
       "      <th>gbt</th>\n",
       "      <th>arima (conformal)</th>\n",
       "      <th>arima (statsmodels) - benchmark</th>\n",
       "    </tr>\n",
       "  </thead>\n",
       "  <tbody>\n",
       "    <tr>\n",
       "      <th>Daily Visitors</th>\n",
       "      <td>5.63</td>\n",
       "      <td>5.55</td>\n",
       "      <td>5.62</td>\n",
       "      <td>5.64</td>\n",
       "      <td>4.29</td>\n",
       "      <td>5.20</td>\n",
       "      <td>5.09</td>\n",
       "      <td>4.97</td>\n",
       "      <td>5.87</td>\n",
       "    </tr>\n",
       "    <tr>\n",
       "      <th>Housing Starts</th>\n",
       "      <td>6.01</td>\n",
       "      <td>8.27</td>\n",
       "      <td>7.70</td>\n",
       "      <td>6.13</td>\n",
       "      <td>4.45</td>\n",
       "      <td>4.30</td>\n",
       "      <td>4.88</td>\n",
       "      <td>24.90</td>\n",
       "      <td>5.62</td>\n",
       "    </tr>\n",
       "    <tr>\n",
       "      <th>Avocados</th>\n",
       "      <td>8.55</td>\n",
       "      <td>8.55</td>\n",
       "      <td>8.48</td>\n",
       "      <td>19.70</td>\n",
       "      <td>36.51</td>\n",
       "      <td>19.81</td>\n",
       "      <td>7.89</td>\n",
       "      <td>23.15</td>\n",
       "      <td>19.94</td>\n",
       "    </tr>\n",
       "  </tbody>\n",
       "</table>\n",
       "</div>"
      ],
      "text/plain": [
       "                mlr  elasticnet  ridge   knn  xgboost  lightgbm  gbt  \\\n",
       "Daily Visitors 5.63        5.55   5.62  5.64     4.29      5.20 5.09   \n",
       "Housing Starts 6.01        8.27   7.70  6.13     4.45      4.30 4.88   \n",
       "Avocados       8.55        8.55   8.48 19.70    36.51     19.81 7.89   \n",
       "\n",
       "                arima (conformal)  arima (statsmodels) - benchmark  \n",
       "Daily Visitors               4.97                             5.87  \n",
       "Housing Starts              24.90                             5.62  \n",
       "Avocados                    23.15                            19.94  "
      ]
     },
     "execution_count": 50,
     "metadata": {},
     "output_type": "execute_result"
    }
   ],
   "source": [
    "all_results"
   ]
  },
  {
   "cell_type": "code",
   "execution_count": null,
   "id": "c08c2071",
   "metadata": {},
   "outputs": [],
   "source": []
  }
 ],
 "metadata": {
  "kernelspec": {
   "display_name": "Python 3 (ipykernel)",
   "language": "python",
   "name": "python3"
  },
  "language_info": {
   "codemirror_mode": {
    "name": "ipython",
    "version": 3
   },
   "file_extension": ".py",
   "mimetype": "text/x-python",
   "name": "python",
   "nbconvert_exporter": "python",
   "pygments_lexer": "ipython3",
   "version": "3.10.9"
  },
  "widgets": {
   "application/vnd.jupyter.widget-state+json": {
    "state": {},
    "version_major": 2,
    "version_minor": 0
   }
  }
 },
 "nbformat": 4,
 "nbformat_minor": 5
}
