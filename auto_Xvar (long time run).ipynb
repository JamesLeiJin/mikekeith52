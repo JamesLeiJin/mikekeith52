{
 "cells": [
  {
   "cell_type": "markdown",
   "id": "0a590848-7e0c-4010-a664-2387021146c9",
   "metadata": {},
   "source": [
    "# Auto Feature Selection\n",
    "- What model combinations can be used to find the ideal features to model a time series with and also to make the best forecasts?  \n",
    "- See [Auto Model Specification with ML Techniques for Time Series](https://towardsdatascience.com/auto-model-specification-with-ml-techniques-for-time-series-e7b9a90ae9d7)  "
   ]
  },
  {
   "cell_type": "code",
   "execution_count": 2,
   "id": "ab0d7718-34e8-424d-b644-3225b126bfbb",
   "metadata": {},
   "outputs": [],
   "source": [
    "import pandas as pd\n",
    "import numpy as np\n",
    "from scalecast.Forecaster import Forecaster\n",
    "from scalecast.util import metrics\n",
    "import matplotlib.pyplot as plt\n",
    "import seaborn as sns\n",
    "from tqdm.notebook import tqdm"
   ]
  },
  {
   "cell_type": "markdown",
   "id": "d0e66429-75a3-464a-a0dd-a0608e574707",
   "metadata": {},
   "source": [
    "Diagram to demonstrate the [auto_Xvar_select()](https://scalecast.readthedocs.io/en/latest/Forecaster/Forecaster.html#src.scalecast.Forecaster.Forecaster.auto_Xvar_select) method:\n",
    "\n",
    "\n",
    "![](./diagram.jpg)"
   ]
  },
  {
   "cell_type": "markdown",
   "id": "d5d3c1c2-2e6f-4c74-8bbf-69ccbe4e627b",
   "metadata": {},
   "source": [
    "## Use 50 Random Series from M4 Hourly"
   ]
  },
  {
   "cell_type": "code",
   "execution_count": 3,
   "id": "4ede3d44-41b1-4cef-8296-50d9deb274de",
   "metadata": {},
   "outputs": [],
   "source": [
    "models = (\n",
    "    'mlr',\n",
    "    'elasticnet',\n",
    "    'gbt',\n",
    "    'knn',\n",
    "    'svr',\n",
    "    'mlp',\n",
    ")\n",
    "\n",
    "Hourly = pd.read_csv(\n",
    "    r'C:\\Users\\jinlei\\Documents\\2023\\mikekeith52\\data\\Hourly-train.csv',\n",
    "    index_col=0,\n",
    ").sample(50)\n",
    "\n",
    "Hourly_test = pd.read_csv(\n",
    "    r'C:\\Users\\jinlei\\Documents\\2023\\mikekeith52\\data\\Hourly-test.csv',\n",
    "    index_col=0,\n",
    ")\n",
    "Hourly_test = Hourly_test.loc[Hourly.index]\n",
    "\n",
    "info = pd.read_csv(\n",
    "    r'C:\\Users\\jinlei\\Documents\\2023\\mikekeith52\\data\\M4-info.csv',\n",
    "    index_col=0,\n",
    "    parse_dates=['StartingDate'],\n",
    "    dayfirst=True,\n",
    ")\n",
    "\n",
    "results = pd.DataFrame(\n",
    "    index = models,\n",
    "    columns = models,\n",
    ").fillna(0)"
   ]
  },
  {
   "cell_type": "markdown",
   "id": "2becc6f2-f065-41a1-a20b-fc3b47e7d51f",
   "metadata": {},
   "source": [
    "## Run all Model Combos and Evaluate SMAPE"
   ]
  },
  {
   "cell_type": "code",
   "execution_count": 5,
   "id": "481c241f-5c37-44ab-8748-55160ba7a928",
   "metadata": {},
   "outputs": [
    {
     "data": {
      "application/vnd.jupyter.widget-view+json": {
       "model_id": "e201735341eb4b1a8b4c8fd5b44712c6",
       "version_major": 2,
       "version_minor": 0
      },
      "text/plain": [
       "  0%|          | 0/50 [00:00<?, ?it/s]"
      ]
     },
     "metadata": {},
     "output_type": "display_data"
    }
   ],
   "source": [
    "for i in tqdm(Hourly.index):\n",
    "    y = Hourly.loc[i].dropna()\n",
    "    sd = info.loc[i,'StartingDate']\n",
    "    fcst_horizon = info.loc[i,'Horizon']\n",
    "    cd = pd.date_range(\n",
    "        start = sd,\n",
    "        freq = 'H',\n",
    "        periods = len(y),\n",
    "    )\n",
    "    f = Forecaster(\n",
    "        y = y,\n",
    "        current_dates = cd,\n",
    "        future_dates = fcst_horizon,\n",
    "        test_length = fcst_horizon, # for finding xvars\n",
    "    )\n",
    "    # extension of this analysis - take transformations\n",
    "    for xvm in models:\n",
    "        for fcstm in models:\n",
    "            f2 = f.deepcopy()\n",
    "            f2.auto_Xvar_select(\n",
    "                estimator = xvm,\n",
    "                monitor='TestSetRMSE',\n",
    "                max_ar = 48,\n",
    "                exclude_seasonalities = ['quarter','month','week','day'],\n",
    "            )\n",
    "            f2.set_estimator(fcstm)\n",
    "            f2.manual_forecast(dynamic_testing=False)\n",
    "            point_fcst = f2.export('lvl_fcsts')[fcstm]\n",
    "            results.loc[xvm,fcstm] += metrics.smape(\n",
    "                Hourly_test.loc[i].dropna().values,\n",
    "                point_fcst.values,\n",
    "            )"
   ]
  },
  {
   "cell_type": "markdown",
   "id": "3ebd40b1-3c13-4163-a37e-b7d48dcb54cb",
   "metadata": {},
   "source": [
    "## View Results\n",
    "\n",
    "### SMAPE Combos"
   ]
  },
  {
   "cell_type": "code",
   "execution_count": 6,
   "id": "e090b109-bd5b-4ee0-b9b5-58cc8018cf39",
   "metadata": {},
   "outputs": [
    {
     "data": {
      "text/html": [
       "<div>\n",
       "<style scoped>\n",
       "    .dataframe tbody tr th:only-of-type {\n",
       "        vertical-align: middle;\n",
       "    }\n",
       "\n",
       "    .dataframe tbody tr th {\n",
       "        vertical-align: top;\n",
       "    }\n",
       "\n",
       "    .dataframe thead th {\n",
       "        text-align: right;\n",
       "    }\n",
       "</style>\n",
       "<table border=\"1\" class=\"dataframe\">\n",
       "  <thead>\n",
       "    <tr style=\"text-align: right;\">\n",
       "      <th></th>\n",
       "      <th>mlr</th>\n",
       "      <th>elasticnet</th>\n",
       "      <th>gbt</th>\n",
       "      <th>knn</th>\n",
       "      <th>svr</th>\n",
       "      <th>mlp</th>\n",
       "    </tr>\n",
       "  </thead>\n",
       "  <tbody>\n",
       "    <tr>\n",
       "      <th>mlr</th>\n",
       "      <td>0.175789</td>\n",
       "      <td>0.306184</td>\n",
       "      <td>0.141702</td>\n",
       "      <td>0.130137</td>\n",
       "      <td>0.228169</td>\n",
       "      <td>0.743317</td>\n",
       "    </tr>\n",
       "    <tr>\n",
       "      <th>elasticnet</th>\n",
       "      <td>0.187225</td>\n",
       "      <td>0.274259</td>\n",
       "      <td>0.127963</td>\n",
       "      <td>0.120628</td>\n",
       "      <td>0.231848</td>\n",
       "      <td>0.608529</td>\n",
       "    </tr>\n",
       "    <tr>\n",
       "      <th>gbt</th>\n",
       "      <td>0.189571</td>\n",
       "      <td>0.324034</td>\n",
       "      <td>0.128174</td>\n",
       "      <td>0.146242</td>\n",
       "      <td>0.233158</td>\n",
       "      <td>0.821538</td>\n",
       "    </tr>\n",
       "    <tr>\n",
       "      <th>knn</th>\n",
       "      <td>0.217871</td>\n",
       "      <td>0.329362</td>\n",
       "      <td>0.169831</td>\n",
       "      <td>0.120976</td>\n",
       "      <td>0.241280</td>\n",
       "      <td>0.791132</td>\n",
       "    </tr>\n",
       "    <tr>\n",
       "      <th>svr</th>\n",
       "      <td>0.179982</td>\n",
       "      <td>0.321648</td>\n",
       "      <td>0.128591</td>\n",
       "      <td>0.144956</td>\n",
       "      <td>0.200857</td>\n",
       "      <td>0.816428</td>\n",
       "    </tr>\n",
       "    <tr>\n",
       "      <th>mlp</th>\n",
       "      <td>0.179795</td>\n",
       "      <td>0.292953</td>\n",
       "      <td>0.136988</td>\n",
       "      <td>0.119620</td>\n",
       "      <td>0.236302</td>\n",
       "      <td>0.582204</td>\n",
       "    </tr>\n",
       "  </tbody>\n",
       "</table>\n",
       "</div>"
      ],
      "text/plain": [
       "                 mlr  elasticnet       gbt       knn       svr       mlp\n",
       "mlr         0.175789    0.306184  0.141702  0.130137  0.228169  0.743317\n",
       "elasticnet  0.187225    0.274259  0.127963  0.120628  0.231848  0.608529\n",
       "gbt         0.189571    0.324034  0.128174  0.146242  0.233158  0.821538\n",
       "knn         0.217871    0.329362  0.169831  0.120976  0.241280  0.791132\n",
       "svr         0.179982    0.321648  0.128591  0.144956  0.200857  0.816428\n",
       "mlp         0.179795    0.292953  0.136988  0.119620  0.236302  0.582204"
      ]
     },
     "execution_count": 6,
     "metadata": {},
     "output_type": "execute_result"
    }
   ],
   "source": [
    "results = results / 50\n",
    "results"
   ]
  },
  {
   "cell_type": "code",
   "execution_count": 7,
   "id": "45fe1b79-88c7-4e81-8f56-6b9e9144104a",
   "metadata": {},
   "outputs": [
    {
     "data": {
      "image/png": "[encoded data removed]",
      "text/plain": [
       "<Figure size 1400x600 with 2 Axes>"
      ]
     },
     "metadata": {},
     "output_type": "display_data"
    }
   ],
   "source": [
    "fig, ax = plt.subplots(figsize=(14,6))\n",
    "sns.heatmap(results,cmap='nipy_spectral',ax=ax,annot=True,fmt='.1%')\n",
    "plt.ylabel('Xvar Estimator',size=12)\n",
    "plt.xlabel('Fcst Estimator',size=12)\n",
    "plt.title('SMAPE Comparison of Model used to Find Xvars vs. Model Used to Make Forecasts',size=16)\n",
    "plt.show()"
   ]
  },
  {
   "cell_type": "markdown",
   "id": "5c785515-cec5-4ccf-b83d-432ffddb2ae9",
   "metadata": {},
   "source": [
    "### Best Models at Making Forecasts on Average"
   ]
  },
  {
   "cell_type": "code",
   "execution_count": 8,
   "id": "8ecc21d9-14f6-4472-ac56-f081e2497380",
   "metadata": {},
   "outputs": [
    {
     "data": {
      "text/plain": [
       "knn           0.130427\n",
       "gbt           0.138875\n",
       "mlr           0.188372\n",
       "svr           0.228602\n",
       "elasticnet    0.308074\n",
       "mlp           0.727191\n",
       "dtype: float64"
      ]
     },
     "execution_count": 8,
     "metadata": {},
     "output_type": "execute_result"
    }
   ],
   "source": [
    "# Fcst estimators\n",
    "results.mean().sort_values()"
   ]
  },
  {
   "cell_type": "markdown",
   "id": "80eab09e-17be-4447-ae40-11144de8f722",
   "metadata": {},
   "source": [
    "### Best Models at Finding Xvars on Average"
   ]
  },
  {
   "cell_type": "code",
   "execution_count": 9,
   "id": "56811f39-bcfc-4c8a-b0c2-4b77c43c5a15",
   "metadata": {},
   "outputs": [
    {
     "data": {
      "text/plain": [
       "mlp           0.257977\n",
       "elasticnet    0.258409\n",
       "mlr           0.287550\n",
       "svr           0.298744\n",
       "gbt           0.307120\n",
       "knn           0.311742\n",
       "dtype: float64"
      ]
     },
     "execution_count": 9,
     "metadata": {},
     "output_type": "execute_result"
    }
   ],
   "source": [
    "# Xvar estimators\n",
    "results.mean(axis=1).sort_values()"
   ]
  },
  {
   "cell_type": "code",
   "execution_count": 10,
   "id": "b26a77b6-1636-4688-8124-82ec8e3e3451",
   "metadata": {},
   "outputs": [
    {
     "data": {
      "text/html": [
       "<div>\n",
       "<style scoped>\n",
       "    .dataframe tbody tr th:only-of-type {\n",
       "        vertical-align: middle;\n",
       "    }\n",
       "\n",
       "    .dataframe tbody tr th {\n",
       "        vertical-align: top;\n",
       "    }\n",
       "\n",
       "    .dataframe thead th {\n",
       "        text-align: right;\n",
       "    }\n",
       "</style>\n",
       "<table border=\"1\" class=\"dataframe\">\n",
       "  <thead>\n",
       "    <tr style=\"text-align: right;\">\n",
       "      <th></th>\n",
       "      <th>mlr</th>\n",
       "      <th>elasticnet</th>\n",
       "      <th>gbt</th>\n",
       "      <th>knn</th>\n",
       "      <th>svr</th>\n",
       "      <th>mlp</th>\n",
       "    </tr>\n",
       "  </thead>\n",
       "  <tbody>\n",
       "    <tr>\n",
       "      <th>mlr</th>\n",
       "      <td>0.175789</td>\n",
       "      <td>0.306184</td>\n",
       "      <td>0.141702</td>\n",
       "      <td>0.130137</td>\n",
       "      <td>0.228169</td>\n",
       "      <td>0.743317</td>\n",
       "    </tr>\n",
       "    <tr>\n",
       "      <th>elasticnet</th>\n",
       "      <td>0.187225</td>\n",
       "      <td>0.274259</td>\n",
       "      <td>0.127963</td>\n",
       "      <td>0.120628</td>\n",
       "      <td>0.231848</td>\n",
       "      <td>0.608529</td>\n",
       "    </tr>\n",
       "    <tr>\n",
       "      <th>gbt</th>\n",
       "      <td>0.189571</td>\n",
       "      <td>0.324034</td>\n",
       "      <td>0.128174</td>\n",
       "      <td>0.146242</td>\n",
       "      <td>0.233158</td>\n",
       "      <td>0.821538</td>\n",
       "    </tr>\n",
       "    <tr>\n",
       "      <th>knn</th>\n",
       "      <td>0.217871</td>\n",
       "      <td>0.329362</td>\n",
       "      <td>0.169831</td>\n",
       "      <td>0.120976</td>\n",
       "      <td>0.241280</td>\n",
       "      <td>0.791132</td>\n",
       "    </tr>\n",
       "    <tr>\n",
       "      <th>svr</th>\n",
       "      <td>0.179982</td>\n",
       "      <td>0.321648</td>\n",
       "      <td>0.128591</td>\n",
       "      <td>0.144956</td>\n",
       "      <td>0.200857</td>\n",
       "      <td>0.816428</td>\n",
       "    </tr>\n",
       "    <tr>\n",
       "      <th>mlp</th>\n",
       "      <td>0.179795</td>\n",
       "      <td>0.292953</td>\n",
       "      <td>0.136988</td>\n",
       "      <td>0.119620</td>\n",
       "      <td>0.236302</td>\n",
       "      <td>0.582204</td>\n",
       "    </tr>\n",
       "  </tbody>\n",
       "</table>\n",
       "</div>"
      ],
      "text/plain": [
       "                 mlr  elasticnet       gbt       knn       svr       mlp\n",
       "mlr         0.175789    0.306184  0.141702  0.130137  0.228169  0.743317\n",
       "elasticnet  0.187225    0.274259  0.127963  0.120628  0.231848  0.608529\n",
       "gbt         0.189571    0.324034  0.128174  0.146242  0.233158  0.821538\n",
       "knn         0.217871    0.329362  0.169831  0.120976  0.241280  0.791132\n",
       "svr         0.179982    0.321648  0.128591  0.144956  0.200857  0.816428\n",
       "mlp         0.179795    0.292953  0.136988  0.119620  0.236302  0.582204"
      ]
     },
     "execution_count": 10,
     "metadata": {},
     "output_type": "execute_result"
    }
   ],
   "source": [
    "results"
   ]
  },
  {
   "cell_type": "code",
   "execution_count": 11,
   "id": "0d2c117a",
   "metadata": {},
   "outputs": [
    {
     "data": {
      "text/plain": [
       "('mlr', 'elasticnet', 'gbt', 'knn', 'svr', 'mlp')"
      ]
     },
     "execution_count": 11,
     "metadata": {},
     "output_type": "execute_result"
    }
   ],
   "source": [
    "models"
   ]
  },
  {
   "cell_type": "code",
   "execution_count": null,
   "id": "d4bd8b89",
   "metadata": {},
   "outputs": [],
   "source": []
  }
 ],
 "metadata": {
  "kernelspec": {
   "display_name": "Python 3 (ipykernel)",
   "language": "python",
   "name": "python3"
  },
  "language_info": {
   "codemirror_mode": {
    "name": "ipython",
    "version": 3
   },
   "file_extension": ".py",
   "mimetype": "text/x-python",
   "name": "python",
   "nbconvert_exporter": "python",
   "pygments_lexer": "ipython3",
   "version": "3.10.9"
  },
  "widgets": {
   "application/vnd.jupyter.widget-state+json": {
    "state": {
     "0c4fa2f6e0d445a891fdd1f02dfa7497": {
      "model_module": "@jupyter-widgets/base",
      "model_module_version": "1.2.0",
      "model_name": "LayoutModel",
      "state": {}
     },
     "378b4aefb752402d94de6205ec0a991d": {
      "model_module": "@jupyter-widgets/controls",
      "model_module_version": "1.5.0",
      "model_name": "ProgressStyleModel",
      "state": {
       "description_width": ""
      }
     },
     "3ae76e9b608b46bd9075c34eb565544d": {
      "model_module": "@jupyter-widgets/base",
      "model_module_version": "1.2.0",
      "model_name": "LayoutModel",
      "state": {}
     },
     "4975ed45bad240a8adc5c67205cdd0e8": {
      "model_module": "@jupyter-widgets/controls",
      "model_module_version": "1.5.0",
      "model_name": "FloatProgressModel",
      "state": {
       "bar_style": "success",
       "layout": "IPY_MODEL_5d20c0b7207a467a871c768231b1de5b",
       "max": 50,
       "style": "IPY_MODEL_378b4aefb752402d94de6205ec0a991d",
       "value": 50
      }
     },
     "5d20c0b7207a467a871c768231b1de5b": {
      "model_module": "@jupyter-widgets/base",
      "model_module_version": "1.2.0",
      "model_name": "LayoutModel",
      "state": {}
     },
     "7de70d2056eb4c9c9df73409e7c667fb": {
      "model_module": "@jupyter-widgets/controls",
      "model_module_version": "1.5.0",
      "model_name": "HTMLModel",
      "state": {
       "layout": "IPY_MODEL_0c4fa2f6e0d445a891fdd1f02dfa7497",
       "style": "IPY_MODEL_ae4b18a8de1842a5b9a26c6e0e1f117e",
       "value": "100%"
      }
     },
     "8ec22aba34084692b2821f7db5da29a3": {
      "model_module": "@jupyter-widgets/controls",
      "model_module_version": "1.5.0",
      "model_name": "HTMLModel",
      "state": {
       "layout": "IPY_MODEL_3ae76e9b608b46bd9075c34eb565544d",
       "style": "IPY_MODEL_97f043917aa94233be2d31a941330e58",
       "value": " 50/50 [14:17:40&lt;00:00, 1351.01s/it]"
      }
     },
     "97f043917aa94233be2d31a941330e58": {
      "model_module": "@jupyter-widgets/controls",
      "model_module_version": "1.5.0",
      "model_name": "DescriptionStyleModel",
      "state": {
       "description_width": ""
      }
     },
     "a24dba3037794bdbb1f15e2cbeaee7a4": {
      "model_module": "@jupyter-widgets/base",
      "model_module_version": "1.2.0",
      "model_name": "LayoutModel",
      "state": {}
     },
     "ae4b18a8de1842a5b9a26c6e0e1f117e": {
      "model_module": "@jupyter-widgets/controls",
      "model_module_version": "1.5.0",
      "model_name": "DescriptionStyleModel",
      "state": {
       "description_width": ""
      }
     },
     "c5ad29bd2dd74a8896b59600e6c809d6": {
      "model_module": "@jupyter-widgets/controls",
      "model_module_version": "1.5.0",
      "model_name": "HBoxModel",
      "state": {
       "children": [
        "IPY_MODEL_7de70d2056eb4c9c9df73409e7c667fb",
        "IPY_MODEL_4975ed45bad240a8adc5c67205cdd0e8",
        "IPY_MODEL_8ec22aba34084692b2821f7db5da29a3"
       ],
       "layout": "IPY_MODEL_a24dba3037794bdbb1f15e2cbeaee7a4"
      }
     }
    },
    "version_major": 2,
    "version_minor": 0
   }
  }
 },
 "nbformat": 4,
 "nbformat_minor": 5
}
